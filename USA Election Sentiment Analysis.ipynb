{
 "cells": [
  {
   "cell_type": "code",
   "execution_count": 121,
   "id": "5f622d35",
   "metadata": {},
   "outputs": [],
   "source": [
    "import numpy as np\n",
    "import pandas as pd\n",
    "from textblob import TextBlob\n",
    "import plotly.graph_objects as go\n",
    "import plotly.express as xp"
   ]
  },
  {
   "cell_type": "code",
   "execution_count": 122,
   "id": "7e69c43e",
   "metadata": {},
   "outputs": [],
   "source": [
    "trump=pd.read_csv('Trumpall2.csv')\n",
    "biden=pd.read_csv('Bidenall2.csv')"
   ]
  },
  {
   "cell_type": "code",
   "execution_count": 123,
   "id": "6abb76af",
   "metadata": {},
   "outputs": [
    {
     "data": {
      "text/html": [
       "<div>\n",
       "<style scoped>\n",
       "    .dataframe tbody tr th:only-of-type {\n",
       "        vertical-align: middle;\n",
       "    }\n",
       "\n",
       "    .dataframe tbody tr th {\n",
       "        vertical-align: top;\n",
       "    }\n",
       "\n",
       "    .dataframe thead th {\n",
       "        text-align: right;\n",
       "    }\n",
       "</style>\n",
       "<table border=\"1\" class=\"dataframe\">\n",
       "  <thead>\n",
       "    <tr style=\"text-align: right;\">\n",
       "      <th></th>\n",
       "      <th>user</th>\n",
       "      <th>text</th>\n",
       "    </tr>\n",
       "  </thead>\n",
       "  <tbody>\n",
       "    <tr>\n",
       "      <th>0</th>\n",
       "      <td>manny_rosen</td>\n",
       "      <td>@sanofi please tell us how many shares the Cr...</td>\n",
       "    </tr>\n",
       "    <tr>\n",
       "      <th>1</th>\n",
       "      <td>osi_abdul</td>\n",
       "      <td>https://t.co/atM98CpqF7  Like, comment, RT #P...</td>\n",
       "    </tr>\n",
       "    <tr>\n",
       "      <th>2</th>\n",
       "      <td>Patsyrw</td>\n",
       "      <td>Your AG Barr is as useless &amp;amp; corrupt as y...</td>\n",
       "    </tr>\n",
       "    <tr>\n",
       "      <th>3</th>\n",
       "      <td>seyedebrahimi_m</td>\n",
       "      <td>Mr. Trump! Wake Up!  Most of the comments bel...</td>\n",
       "    </tr>\n",
       "    <tr>\n",
       "      <th>4</th>\n",
       "      <td>James09254677</td>\n",
       "      <td>After 4 years you think you would have figure...</td>\n",
       "    </tr>\n",
       "  </tbody>\n",
       "</table>\n",
       "</div>"
      ],
      "text/plain": [
       "              user                                               text\n",
       "0      manny_rosen   @sanofi please tell us how many shares the Cr...\n",
       "1        osi_abdul   https://t.co/atM98CpqF7  Like, comment, RT #P...\n",
       "2          Patsyrw   Your AG Barr is as useless &amp; corrupt as y...\n",
       "3  seyedebrahimi_m   Mr. Trump! Wake Up!  Most of the comments bel...\n",
       "4    James09254677   After 4 years you think you would have figure..."
      ]
     },
     "execution_count": 123,
     "metadata": {},
     "output_type": "execute_result"
    }
   ],
   "source": [
    "trump.head()"
   ]
  },
  {
   "cell_type": "code",
   "execution_count": 124,
   "id": "e1d8ad22",
   "metadata": {},
   "outputs": [
    {
     "data": {
      "text/html": [
       "<div>\n",
       "<style scoped>\n",
       "    .dataframe tbody tr th:only-of-type {\n",
       "        vertical-align: middle;\n",
       "    }\n",
       "\n",
       "    .dataframe tbody tr th {\n",
       "        vertical-align: top;\n",
       "    }\n",
       "\n",
       "    .dataframe thead th {\n",
       "        text-align: right;\n",
       "    }\n",
       "</style>\n",
       "<table border=\"1\" class=\"dataframe\">\n",
       "  <thead>\n",
       "    <tr style=\"text-align: right;\">\n",
       "      <th></th>\n",
       "      <th>user</th>\n",
       "      <th>text</th>\n",
       "    </tr>\n",
       "  </thead>\n",
       "  <tbody>\n",
       "    <tr>\n",
       "      <th>0</th>\n",
       "      <td>MarkHodder3</td>\n",
       "      <td>@JoeBiden And we’ll find out who won in 2026...</td>\n",
       "    </tr>\n",
       "    <tr>\n",
       "      <th>1</th>\n",
       "      <td>K87327961G</td>\n",
       "      <td>@JoeBiden Your Democratic Nazi Party cannot be...</td>\n",
       "    </tr>\n",
       "    <tr>\n",
       "      <th>2</th>\n",
       "      <td>OldlaceA</td>\n",
       "      <td>@JoeBiden So did Lying Barr</td>\n",
       "    </tr>\n",
       "    <tr>\n",
       "      <th>3</th>\n",
       "      <td>penblogger</td>\n",
       "      <td>@JoeBiden It's clear you didnt compose this tw...</td>\n",
       "    </tr>\n",
       "    <tr>\n",
       "      <th>4</th>\n",
       "      <td>Aquarian0264</td>\n",
       "      <td>@JoeBiden I will vote in person thank you.</td>\n",
       "    </tr>\n",
       "  </tbody>\n",
       "</table>\n",
       "</div>"
      ],
      "text/plain": [
       "           user                                               text\n",
       "0   MarkHodder3    @JoeBiden And we’ll find out who won in 2026...\n",
       "1    K87327961G  @JoeBiden Your Democratic Nazi Party cannot be...\n",
       "2      OldlaceA                        @JoeBiden So did Lying Barr\n",
       "3    penblogger  @JoeBiden It's clear you didnt compose this tw...\n",
       "4  Aquarian0264         @JoeBiden I will vote in person thank you."
      ]
     },
     "execution_count": 124,
     "metadata": {},
     "output_type": "execute_result"
    }
   ],
   "source": [
    "biden.head()"
   ]
  },
  {
   "cell_type": "code",
   "execution_count": 125,
   "id": "a7aaa7b6",
   "metadata": {},
   "outputs": [
    {
     "data": {
      "text/plain": [
       "0        @sanofi please tell us how many shares the Cr...\n",
       "1        https://t.co/atM98CpqF7  Like, comment, RT #P...\n",
       "2        Your AG Barr is as useless &amp; corrupt as y...\n",
       "3        Mr. Trump! Wake Up!  Most of the comments bel...\n",
       "4        After 4 years you think you would have figure...\n",
       "                              ...                        \n",
       "2783    @realDonaldTrump For the 1/100 time, absentee ...\n",
       "2784    @realDonaldTrump If you’re so scared of losing...\n",
       "2785    @realDonaldTrump I rarely get involved with fo...\n",
       "2786    @realDonaldTrump This is the moment when Trump...\n",
       "2787       @realDonaldTrump I’m sorry, Donald. No. #POTUS\n",
       "Name: text, Length: 2788, dtype: object"
      ]
     },
     "execution_count": 125,
     "metadata": {},
     "output_type": "execute_result"
    }
   ],
   "source": [
    "trump['text']"
   ]
  },
  {
   "cell_type": "code",
   "execution_count": 126,
   "id": "a3e1d723",
   "metadata": {},
   "outputs": [
    {
     "data": {
      "text/plain": [
       "' @sanofi please tell us how many shares the Criminal Trump Enterprise owns.'"
      ]
     },
     "execution_count": 126,
     "metadata": {},
     "output_type": "execute_result"
    }
   ],
   "source": [
    "trump['text'][0]"
   ]
  },
  {
   "cell_type": "code",
   "execution_count": 127,
   "id": "1e10a08f",
   "metadata": {},
   "outputs": [],
   "source": [
    "# Textblob sentiment analyzer returns two properties for a given input sentence: Polarity is a float that lies betwwen [-1,1],\n",
    "# -1 indicates negative sentiment and +1 indicates positive sentiments.Subjectivity is also a float which lies in the range of \n",
    "# [0,1]. 0 represents objective text and 1 represents highly subjective text."
   ]
  },
  {
   "cell_type": "code",
   "execution_count": 128,
   "id": "3a06f712",
   "metadata": {},
   "outputs": [
    {
     "data": {
      "text/plain": [
       "Sentiment(polarity=0.04999999999999999, subjectivity=0.525)"
      ]
     },
     "execution_count": 128,
     "metadata": {},
     "output_type": "execute_result"
    }
   ],
   "source": [
    "TextBlob(trump['text'][0]).sentiment"
   ]
  },
  {
   "cell_type": "code",
   "execution_count": 129,
   "id": "7ae8840c",
   "metadata": {},
   "outputs": [
    {
     "data": {
      "text/plain": [
       "' No president would be able to destroy as you have'"
      ]
     },
     "execution_count": 129,
     "metadata": {},
     "output_type": "execute_result"
    }
   ],
   "source": [
    "trump['text'][10]"
   ]
  },
  {
   "cell_type": "code",
   "execution_count": 130,
   "id": "45c0b97a",
   "metadata": {},
   "outputs": [
    {
     "data": {
      "text/plain": [
       "Sentiment(polarity=0.15, subjectivity=0.3125)"
      ]
     },
     "execution_count": 130,
     "metadata": {},
     "output_type": "execute_result"
    }
   ],
   "source": [
    "TextBlob(trump['text'][10]).sentiment"
   ]
  },
  {
   "cell_type": "code",
   "execution_count": 131,
   "id": "6ee7d902",
   "metadata": {},
   "outputs": [
    {
     "data": {
      "text/plain": [
       "(2788, 2)"
      ]
     },
     "execution_count": 131,
     "metadata": {},
     "output_type": "execute_result"
    }
   ],
   "source": [
    "trump.shape"
   ]
  },
  {
   "cell_type": "code",
   "execution_count": 132,
   "id": "0172de4c",
   "metadata": {},
   "outputs": [
    {
     "data": {
      "text/plain": [
       "(2540, 2)"
      ]
     },
     "execution_count": 132,
     "metadata": {},
     "output_type": "execute_result"
    }
   ],
   "source": [
    "biden.shape"
   ]
  },
  {
   "cell_type": "code",
   "execution_count": 133,
   "id": "c1d54aac",
   "metadata": {},
   "outputs": [
    {
     "data": {
      "text/plain": [
       "'@JoeBiden And we’ll find out who won in 2026...'"
      ]
     },
     "execution_count": 133,
     "metadata": {},
     "output_type": "execute_result"
    }
   ],
   "source": [
    "biden['text'][0]"
   ]
  },
  {
   "cell_type": "code",
   "execution_count": 134,
   "id": "d818d741",
   "metadata": {},
   "outputs": [
    {
     "data": {
      "text/plain": [
       "TextBlob(\"@JoeBiden Big difference between an absentee ballot and leftist version of vote by mail\")"
      ]
     },
     "execution_count": 134,
     "metadata": {},
     "output_type": "execute_result"
    }
   ],
   "source": [
    "TextBlob(biden['text'][80])"
   ]
  },
  {
   "cell_type": "code",
   "execution_count": 135,
   "id": "bd1f37a1",
   "metadata": {},
   "outputs": [
    {
     "data": {
      "text/plain": [
       "Sentiment(polarity=-0.025, subjectivity=0.35)"
      ]
     },
     "execution_count": 135,
     "metadata": {},
     "output_type": "execute_result"
    }
   ],
   "source": [
    "TextBlob(biden['text'][80]).sentiment"
   ]
  },
  {
   "cell_type": "code",
   "execution_count": 136,
   "id": "8e05786c",
   "metadata": {},
   "outputs": [
    {
     "data": {
      "text/plain": [
       "-0.025"
      ]
     },
     "execution_count": 136,
     "metadata": {},
     "output_type": "execute_result"
    }
   ],
   "source": [
    "TextBlob(biden['text'][80]).sentiment.polarity"
   ]
  },
  {
   "cell_type": "code",
   "execution_count": 137,
   "id": "2bbba52e",
   "metadata": {},
   "outputs": [
    {
     "data": {
      "text/plain": [
       "0.35"
      ]
     },
     "execution_count": 137,
     "metadata": {},
     "output_type": "execute_result"
    }
   ],
   "source": [
    "TextBlob(biden['text'][80]).sentiment.subjectivity"
   ]
  },
  {
   "cell_type": "code",
   "execution_count": 138,
   "id": "a69729a0",
   "metadata": {},
   "outputs": [],
   "source": [
    "def find_polarity(reviews):\n",
    "    return TextBlob(reviews).sentiment.polarity"
   ]
  },
  {
   "cell_type": "code",
   "execution_count": 139,
   "id": "be5250c7",
   "metadata": {},
   "outputs": [],
   "source": [
    "trump['Sentiment Polarity']=trump['text'].apply(find_polarity)\n",
    "biden['Sentiment Polarity']=biden['text'].apply(find_polarity)"
   ]
  },
  {
   "cell_type": "code",
   "execution_count": 140,
   "id": "b7e45b88",
   "metadata": {},
   "outputs": [
    {
     "data": {
      "text/html": [
       "<div>\n",
       "<style scoped>\n",
       "    .dataframe tbody tr th:only-of-type {\n",
       "        vertical-align: middle;\n",
       "    }\n",
       "\n",
       "    .dataframe tbody tr th {\n",
       "        vertical-align: top;\n",
       "    }\n",
       "\n",
       "    .dataframe thead th {\n",
       "        text-align: right;\n",
       "    }\n",
       "</style>\n",
       "<table border=\"1\" class=\"dataframe\">\n",
       "  <thead>\n",
       "    <tr style=\"text-align: right;\">\n",
       "      <th></th>\n",
       "      <th>user</th>\n",
       "      <th>text</th>\n",
       "      <th>Sentiment Polarity</th>\n",
       "    </tr>\n",
       "  </thead>\n",
       "  <tbody>\n",
       "    <tr>\n",
       "      <th>0</th>\n",
       "      <td>manny_rosen</td>\n",
       "      <td>@sanofi please tell us how many shares the Cr...</td>\n",
       "      <td>0.050</td>\n",
       "    </tr>\n",
       "    <tr>\n",
       "      <th>1</th>\n",
       "      <td>osi_abdul</td>\n",
       "      <td>https://t.co/atM98CpqF7  Like, comment, RT #P...</td>\n",
       "      <td>0.000</td>\n",
       "    </tr>\n",
       "    <tr>\n",
       "      <th>2</th>\n",
       "      <td>Patsyrw</td>\n",
       "      <td>Your AG Barr is as useless &amp;amp; corrupt as y...</td>\n",
       "      <td>-0.500</td>\n",
       "    </tr>\n",
       "    <tr>\n",
       "      <th>3</th>\n",
       "      <td>seyedebrahimi_m</td>\n",
       "      <td>Mr. Trump! Wake Up!  Most of the comments bel...</td>\n",
       "      <td>0.500</td>\n",
       "    </tr>\n",
       "    <tr>\n",
       "      <th>4</th>\n",
       "      <td>James09254677</td>\n",
       "      <td>After 4 years you think you would have figure...</td>\n",
       "      <td>0.000</td>\n",
       "    </tr>\n",
       "    <tr>\n",
       "      <th>...</th>\n",
       "      <td>...</td>\n",
       "      <td>...</td>\n",
       "      <td>...</td>\n",
       "    </tr>\n",
       "    <tr>\n",
       "      <th>2783</th>\n",
       "      <td>4diva63</td>\n",
       "      <td>@realDonaldTrump For the 1/100 time, absentee ...</td>\n",
       "      <td>0.000</td>\n",
       "    </tr>\n",
       "    <tr>\n",
       "      <th>2784</th>\n",
       "      <td>hidge826</td>\n",
       "      <td>@realDonaldTrump If you’re so scared of losing...</td>\n",
       "      <td>0.000</td>\n",
       "    </tr>\n",
       "    <tr>\n",
       "      <th>2785</th>\n",
       "      <td>SpencerRossy</td>\n",
       "      <td>@realDonaldTrump I rarely get involved with fo...</td>\n",
       "      <td>0.225</td>\n",
       "    </tr>\n",
       "    <tr>\n",
       "      <th>2786</th>\n",
       "      <td>ScoobyMcpherson</td>\n",
       "      <td>@realDonaldTrump This is the moment when Trump...</td>\n",
       "      <td>0.000</td>\n",
       "    </tr>\n",
       "    <tr>\n",
       "      <th>2787</th>\n",
       "      <td>bjklinz</td>\n",
       "      <td>@realDonaldTrump I’m sorry, Donald. No. #POTUS</td>\n",
       "      <td>-0.500</td>\n",
       "    </tr>\n",
       "  </tbody>\n",
       "</table>\n",
       "<p>2788 rows × 3 columns</p>\n",
       "</div>"
      ],
      "text/plain": [
       "                 user                                               text  \\\n",
       "0         manny_rosen   @sanofi please tell us how many shares the Cr...   \n",
       "1           osi_abdul   https://t.co/atM98CpqF7  Like, comment, RT #P...   \n",
       "2             Patsyrw   Your AG Barr is as useless &amp; corrupt as y...   \n",
       "3     seyedebrahimi_m   Mr. Trump! Wake Up!  Most of the comments bel...   \n",
       "4       James09254677   After 4 years you think you would have figure...   \n",
       "...               ...                                                ...   \n",
       "2783          4diva63  @realDonaldTrump For the 1/100 time, absentee ...   \n",
       "2784         hidge826  @realDonaldTrump If you’re so scared of losing...   \n",
       "2785     SpencerRossy  @realDonaldTrump I rarely get involved with fo...   \n",
       "2786  ScoobyMcpherson  @realDonaldTrump This is the moment when Trump...   \n",
       "2787          bjklinz     @realDonaldTrump I’m sorry, Donald. No. #POTUS   \n",
       "\n",
       "      Sentiment Polarity  \n",
       "0                  0.050  \n",
       "1                  0.000  \n",
       "2                 -0.500  \n",
       "3                  0.500  \n",
       "4                  0.000  \n",
       "...                  ...  \n",
       "2783               0.000  \n",
       "2784               0.000  \n",
       "2785               0.225  \n",
       "2786               0.000  \n",
       "2787              -0.500  \n",
       "\n",
       "[2788 rows x 3 columns]"
      ]
     },
     "execution_count": 140,
     "metadata": {},
     "output_type": "execute_result"
    }
   ],
   "source": [
    "trump"
   ]
  },
  {
   "cell_type": "code",
   "execution_count": 141,
   "id": "a8edc95a",
   "metadata": {},
   "outputs": [
    {
     "data": {
      "text/html": [
       "<div>\n",
       "<style scoped>\n",
       "    .dataframe tbody tr th:only-of-type {\n",
       "        vertical-align: middle;\n",
       "    }\n",
       "\n",
       "    .dataframe tbody tr th {\n",
       "        vertical-align: top;\n",
       "    }\n",
       "\n",
       "    .dataframe thead th {\n",
       "        text-align: right;\n",
       "    }\n",
       "</style>\n",
       "<table border=\"1\" class=\"dataframe\">\n",
       "  <thead>\n",
       "    <tr style=\"text-align: right;\">\n",
       "      <th></th>\n",
       "      <th>user</th>\n",
       "      <th>text</th>\n",
       "      <th>Sentiment Polarity</th>\n",
       "    </tr>\n",
       "  </thead>\n",
       "  <tbody>\n",
       "    <tr>\n",
       "      <th>0</th>\n",
       "      <td>MarkHodder3</td>\n",
       "      <td>@JoeBiden And we’ll find out who won in 2026...</td>\n",
       "      <td>0.00</td>\n",
       "    </tr>\n",
       "    <tr>\n",
       "      <th>1</th>\n",
       "      <td>K87327961G</td>\n",
       "      <td>@JoeBiden Your Democratic Nazi Party cannot be...</td>\n",
       "      <td>0.00</td>\n",
       "    </tr>\n",
       "    <tr>\n",
       "      <th>2</th>\n",
       "      <td>OldlaceA</td>\n",
       "      <td>@JoeBiden So did Lying Barr</td>\n",
       "      <td>0.00</td>\n",
       "    </tr>\n",
       "    <tr>\n",
       "      <th>3</th>\n",
       "      <td>penblogger</td>\n",
       "      <td>@JoeBiden It's clear you didnt compose this tw...</td>\n",
       "      <td>0.05</td>\n",
       "    </tr>\n",
       "    <tr>\n",
       "      <th>4</th>\n",
       "      <td>Aquarian0264</td>\n",
       "      <td>@JoeBiden I will vote in person thank you.</td>\n",
       "      <td>0.00</td>\n",
       "    </tr>\n",
       "    <tr>\n",
       "      <th>...</th>\n",
       "      <td>...</td>\n",
       "      <td>...</td>\n",
       "      <td>...</td>\n",
       "    </tr>\n",
       "    <tr>\n",
       "      <th>2535</th>\n",
       "      <td>meryn1977</td>\n",
       "      <td>@JoeBiden You'll just try to calm those waters...</td>\n",
       "      <td>0.15</td>\n",
       "    </tr>\n",
       "    <tr>\n",
       "      <th>2536</th>\n",
       "      <td>BSNelson114</td>\n",
       "      <td>@JoeBiden 96 days 96 dias #VoteJoeBiden2020  #...</td>\n",
       "      <td>0.00</td>\n",
       "    </tr>\n",
       "    <tr>\n",
       "      <th>2537</th>\n",
       "      <td>KenCapel</td>\n",
       "      <td>@JoeBiden YOU THINK YOU CAN DO THAT??? YOU CAN...</td>\n",
       "      <td>0.00</td>\n",
       "    </tr>\n",
       "    <tr>\n",
       "      <th>2538</th>\n",
       "      <td>LeslyeHale</td>\n",
       "      <td>@JoeBiden Trump wants our children back at sch...</td>\n",
       "      <td>0.10</td>\n",
       "    </tr>\n",
       "    <tr>\n",
       "      <th>2539</th>\n",
       "      <td>rerickre</td>\n",
       "      <td>@JoeBiden ... and I know, because it’s much co...</td>\n",
       "      <td>0.20</td>\n",
       "    </tr>\n",
       "  </tbody>\n",
       "</table>\n",
       "<p>2540 rows × 3 columns</p>\n",
       "</div>"
      ],
      "text/plain": [
       "              user                                               text  \\\n",
       "0      MarkHodder3    @JoeBiden And we’ll find out who won in 2026...   \n",
       "1       K87327961G  @JoeBiden Your Democratic Nazi Party cannot be...   \n",
       "2         OldlaceA                        @JoeBiden So did Lying Barr   \n",
       "3       penblogger  @JoeBiden It's clear you didnt compose this tw...   \n",
       "4     Aquarian0264         @JoeBiden I will vote in person thank you.   \n",
       "...            ...                                                ...   \n",
       "2535     meryn1977  @JoeBiden You'll just try to calm those waters...   \n",
       "2536   BSNelson114  @JoeBiden 96 days 96 dias #VoteJoeBiden2020  #...   \n",
       "2537      KenCapel  @JoeBiden YOU THINK YOU CAN DO THAT??? YOU CAN...   \n",
       "2538    LeslyeHale  @JoeBiden Trump wants our children back at sch...   \n",
       "2539      rerickre  @JoeBiden ... and I know, because it’s much co...   \n",
       "\n",
       "      Sentiment Polarity  \n",
       "0                   0.00  \n",
       "1                   0.00  \n",
       "2                   0.00  \n",
       "3                   0.05  \n",
       "4                   0.00  \n",
       "...                  ...  \n",
       "2535                0.15  \n",
       "2536                0.00  \n",
       "2537                0.00  \n",
       "2538                0.10  \n",
       "2539                0.20  \n",
       "\n",
       "[2540 rows x 3 columns]"
      ]
     },
     "execution_count": 141,
     "metadata": {},
     "output_type": "execute_result"
    }
   ],
   "source": [
    "biden"
   ]
  },
  {
   "cell_type": "code",
   "execution_count": 142,
   "id": "5a0da7a1",
   "metadata": {},
   "outputs": [],
   "source": [
    "# polarity > 0 ---> positive \n",
    "# polarity < 0 ---> negative\n",
    "# polarity = 0 ---> neutral"
   ]
  },
  {
   "cell_type": "code",
   "execution_count": 143,
   "id": "afd9416c",
   "metadata": {},
   "outputs": [
    {
     "name": "stderr",
     "output_type": "stream",
     "text": [
      "C:\\Users\\power\\AppData\\Local\\Temp\\ipykernel_3952\\3521429128.py:2: SettingWithCopyWarning: \n",
      "A value is trying to be set on a copy of a slice from a DataFrame\n",
      "\n",
      "See the caveats in the documentation: https://pandas.pydata.org/pandas-docs/stable/user_guide/indexing.html#returning-a-view-versus-a-copy\n",
      "  trump['Expression Label'][trump['Sentiment Polarity']==0]='Neutral'\n"
     ]
    }
   ],
   "source": [
    "trump['Expression Label']=np.where(trump['Sentiment Polarity']>0,'Positive','Negative')\n",
    "trump['Expression Label'][trump['Sentiment Polarity']==0]='Neutral'"
   ]
  },
  {
   "cell_type": "code",
   "execution_count": 144,
   "id": "9d816add",
   "metadata": {},
   "outputs": [
    {
     "name": "stderr",
     "output_type": "stream",
     "text": [
      "C:\\Users\\power\\AppData\\Local\\Temp\\ipykernel_3952\\1145969075.py:2: SettingWithCopyWarning: \n",
      "A value is trying to be set on a copy of a slice from a DataFrame\n",
      "\n",
      "See the caveats in the documentation: https://pandas.pydata.org/pandas-docs/stable/user_guide/indexing.html#returning-a-view-versus-a-copy\n",
      "  biden['Expression Label'][biden['Sentiment Polarity']==0]='Neutral'\n"
     ]
    }
   ],
   "source": [
    "biden['Expression Label']=np.where(biden['Sentiment Polarity']>0,'Positive','Negative')\n",
    "biden['Expression Label'][biden['Sentiment Polarity']==0]='Neutral'"
   ]
  },
  {
   "cell_type": "code",
   "execution_count": 145,
   "id": "274f2c91",
   "metadata": {},
   "outputs": [
    {
     "data": {
      "text/html": [
       "<div>\n",
       "<style scoped>\n",
       "    .dataframe tbody tr th:only-of-type {\n",
       "        vertical-align: middle;\n",
       "    }\n",
       "\n",
       "    .dataframe tbody tr th {\n",
       "        vertical-align: top;\n",
       "    }\n",
       "\n",
       "    .dataframe thead th {\n",
       "        text-align: right;\n",
       "    }\n",
       "</style>\n",
       "<table border=\"1\" class=\"dataframe\">\n",
       "  <thead>\n",
       "    <tr style=\"text-align: right;\">\n",
       "      <th></th>\n",
       "      <th>user</th>\n",
       "      <th>text</th>\n",
       "      <th>Sentiment Polarity</th>\n",
       "      <th>Expression Label</th>\n",
       "    </tr>\n",
       "  </thead>\n",
       "  <tbody>\n",
       "    <tr>\n",
       "      <th>0</th>\n",
       "      <td>manny_rosen</td>\n",
       "      <td>@sanofi please tell us how many shares the Cr...</td>\n",
       "      <td>0.050</td>\n",
       "      <td>Positive</td>\n",
       "    </tr>\n",
       "    <tr>\n",
       "      <th>1</th>\n",
       "      <td>osi_abdul</td>\n",
       "      <td>https://t.co/atM98CpqF7  Like, comment, RT #P...</td>\n",
       "      <td>0.000</td>\n",
       "      <td>Neutral</td>\n",
       "    </tr>\n",
       "    <tr>\n",
       "      <th>2</th>\n",
       "      <td>Patsyrw</td>\n",
       "      <td>Your AG Barr is as useless &amp;amp; corrupt as y...</td>\n",
       "      <td>-0.500</td>\n",
       "      <td>Negative</td>\n",
       "    </tr>\n",
       "    <tr>\n",
       "      <th>3</th>\n",
       "      <td>seyedebrahimi_m</td>\n",
       "      <td>Mr. Trump! Wake Up!  Most of the comments bel...</td>\n",
       "      <td>0.500</td>\n",
       "      <td>Positive</td>\n",
       "    </tr>\n",
       "    <tr>\n",
       "      <th>4</th>\n",
       "      <td>James09254677</td>\n",
       "      <td>After 4 years you think you would have figure...</td>\n",
       "      <td>0.000</td>\n",
       "      <td>Neutral</td>\n",
       "    </tr>\n",
       "    <tr>\n",
       "      <th>...</th>\n",
       "      <td>...</td>\n",
       "      <td>...</td>\n",
       "      <td>...</td>\n",
       "      <td>...</td>\n",
       "    </tr>\n",
       "    <tr>\n",
       "      <th>2783</th>\n",
       "      <td>4diva63</td>\n",
       "      <td>@realDonaldTrump For the 1/100 time, absentee ...</td>\n",
       "      <td>0.000</td>\n",
       "      <td>Neutral</td>\n",
       "    </tr>\n",
       "    <tr>\n",
       "      <th>2784</th>\n",
       "      <td>hidge826</td>\n",
       "      <td>@realDonaldTrump If you’re so scared of losing...</td>\n",
       "      <td>0.000</td>\n",
       "      <td>Neutral</td>\n",
       "    </tr>\n",
       "    <tr>\n",
       "      <th>2785</th>\n",
       "      <td>SpencerRossy</td>\n",
       "      <td>@realDonaldTrump I rarely get involved with fo...</td>\n",
       "      <td>0.225</td>\n",
       "      <td>Positive</td>\n",
       "    </tr>\n",
       "    <tr>\n",
       "      <th>2786</th>\n",
       "      <td>ScoobyMcpherson</td>\n",
       "      <td>@realDonaldTrump This is the moment when Trump...</td>\n",
       "      <td>0.000</td>\n",
       "      <td>Neutral</td>\n",
       "    </tr>\n",
       "    <tr>\n",
       "      <th>2787</th>\n",
       "      <td>bjklinz</td>\n",
       "      <td>@realDonaldTrump I’m sorry, Donald. No. #POTUS</td>\n",
       "      <td>-0.500</td>\n",
       "      <td>Negative</td>\n",
       "    </tr>\n",
       "  </tbody>\n",
       "</table>\n",
       "<p>2788 rows × 4 columns</p>\n",
       "</div>"
      ],
      "text/plain": [
       "                 user                                               text  \\\n",
       "0         manny_rosen   @sanofi please tell us how many shares the Cr...   \n",
       "1           osi_abdul   https://t.co/atM98CpqF7  Like, comment, RT #P...   \n",
       "2             Patsyrw   Your AG Barr is as useless &amp; corrupt as y...   \n",
       "3     seyedebrahimi_m   Mr. Trump! Wake Up!  Most of the comments bel...   \n",
       "4       James09254677   After 4 years you think you would have figure...   \n",
       "...               ...                                                ...   \n",
       "2783          4diva63  @realDonaldTrump For the 1/100 time, absentee ...   \n",
       "2784         hidge826  @realDonaldTrump If you’re so scared of losing...   \n",
       "2785     SpencerRossy  @realDonaldTrump I rarely get involved with fo...   \n",
       "2786  ScoobyMcpherson  @realDonaldTrump This is the moment when Trump...   \n",
       "2787          bjklinz     @realDonaldTrump I’m sorry, Donald. No. #POTUS   \n",
       "\n",
       "      Sentiment Polarity Expression Label  \n",
       "0                  0.050         Positive  \n",
       "1                  0.000          Neutral  \n",
       "2                 -0.500         Negative  \n",
       "3                  0.500         Positive  \n",
       "4                  0.000          Neutral  \n",
       "...                  ...              ...  \n",
       "2783               0.000          Neutral  \n",
       "2784               0.000          Neutral  \n",
       "2785               0.225         Positive  \n",
       "2786               0.000          Neutral  \n",
       "2787              -0.500         Negative  \n",
       "\n",
       "[2788 rows x 4 columns]"
      ]
     },
     "execution_count": 145,
     "metadata": {},
     "output_type": "execute_result"
    }
   ],
   "source": [
    "trump"
   ]
  },
  {
   "cell_type": "code",
   "execution_count": 146,
   "id": "21b6dec3",
   "metadata": {},
   "outputs": [
    {
     "data": {
      "text/html": [
       "<div>\n",
       "<style scoped>\n",
       "    .dataframe tbody tr th:only-of-type {\n",
       "        vertical-align: middle;\n",
       "    }\n",
       "\n",
       "    .dataframe tbody tr th {\n",
       "        vertical-align: top;\n",
       "    }\n",
       "\n",
       "    .dataframe thead th {\n",
       "        text-align: right;\n",
       "    }\n",
       "</style>\n",
       "<table border=\"1\" class=\"dataframe\">\n",
       "  <thead>\n",
       "    <tr style=\"text-align: right;\">\n",
       "      <th></th>\n",
       "      <th>user</th>\n",
       "      <th>text</th>\n",
       "      <th>Sentiment Polarity</th>\n",
       "      <th>Expression Label</th>\n",
       "    </tr>\n",
       "  </thead>\n",
       "  <tbody>\n",
       "    <tr>\n",
       "      <th>0</th>\n",
       "      <td>MarkHodder3</td>\n",
       "      <td>@JoeBiden And we’ll find out who won in 2026...</td>\n",
       "      <td>0.00</td>\n",
       "      <td>Neutral</td>\n",
       "    </tr>\n",
       "    <tr>\n",
       "      <th>1</th>\n",
       "      <td>K87327961G</td>\n",
       "      <td>@JoeBiden Your Democratic Nazi Party cannot be...</td>\n",
       "      <td>0.00</td>\n",
       "      <td>Neutral</td>\n",
       "    </tr>\n",
       "    <tr>\n",
       "      <th>2</th>\n",
       "      <td>OldlaceA</td>\n",
       "      <td>@JoeBiden So did Lying Barr</td>\n",
       "      <td>0.00</td>\n",
       "      <td>Neutral</td>\n",
       "    </tr>\n",
       "    <tr>\n",
       "      <th>3</th>\n",
       "      <td>penblogger</td>\n",
       "      <td>@JoeBiden It's clear you didnt compose this tw...</td>\n",
       "      <td>0.05</td>\n",
       "      <td>Positive</td>\n",
       "    </tr>\n",
       "    <tr>\n",
       "      <th>4</th>\n",
       "      <td>Aquarian0264</td>\n",
       "      <td>@JoeBiden I will vote in person thank you.</td>\n",
       "      <td>0.00</td>\n",
       "      <td>Neutral</td>\n",
       "    </tr>\n",
       "    <tr>\n",
       "      <th>...</th>\n",
       "      <td>...</td>\n",
       "      <td>...</td>\n",
       "      <td>...</td>\n",
       "      <td>...</td>\n",
       "    </tr>\n",
       "    <tr>\n",
       "      <th>2535</th>\n",
       "      <td>meryn1977</td>\n",
       "      <td>@JoeBiden You'll just try to calm those waters...</td>\n",
       "      <td>0.15</td>\n",
       "      <td>Positive</td>\n",
       "    </tr>\n",
       "    <tr>\n",
       "      <th>2536</th>\n",
       "      <td>BSNelson114</td>\n",
       "      <td>@JoeBiden 96 days 96 dias #VoteJoeBiden2020  #...</td>\n",
       "      <td>0.00</td>\n",
       "      <td>Neutral</td>\n",
       "    </tr>\n",
       "    <tr>\n",
       "      <th>2537</th>\n",
       "      <td>KenCapel</td>\n",
       "      <td>@JoeBiden YOU THINK YOU CAN DO THAT??? YOU CAN...</td>\n",
       "      <td>0.00</td>\n",
       "      <td>Neutral</td>\n",
       "    </tr>\n",
       "    <tr>\n",
       "      <th>2538</th>\n",
       "      <td>LeslyeHale</td>\n",
       "      <td>@JoeBiden Trump wants our children back at sch...</td>\n",
       "      <td>0.10</td>\n",
       "      <td>Positive</td>\n",
       "    </tr>\n",
       "    <tr>\n",
       "      <th>2539</th>\n",
       "      <td>rerickre</td>\n",
       "      <td>@JoeBiden ... and I know, because it’s much co...</td>\n",
       "      <td>0.20</td>\n",
       "      <td>Positive</td>\n",
       "    </tr>\n",
       "  </tbody>\n",
       "</table>\n",
       "<p>2540 rows × 4 columns</p>\n",
       "</div>"
      ],
      "text/plain": [
       "              user                                               text  \\\n",
       "0      MarkHodder3    @JoeBiden And we’ll find out who won in 2026...   \n",
       "1       K87327961G  @JoeBiden Your Democratic Nazi Party cannot be...   \n",
       "2         OldlaceA                        @JoeBiden So did Lying Barr   \n",
       "3       penblogger  @JoeBiden It's clear you didnt compose this tw...   \n",
       "4     Aquarian0264         @JoeBiden I will vote in person thank you.   \n",
       "...            ...                                                ...   \n",
       "2535     meryn1977  @JoeBiden You'll just try to calm those waters...   \n",
       "2536   BSNelson114  @JoeBiden 96 days 96 dias #VoteJoeBiden2020  #...   \n",
       "2537      KenCapel  @JoeBiden YOU THINK YOU CAN DO THAT??? YOU CAN...   \n",
       "2538    LeslyeHale  @JoeBiden Trump wants our children back at sch...   \n",
       "2539      rerickre  @JoeBiden ... and I know, because it’s much co...   \n",
       "\n",
       "      Sentiment Polarity Expression Label  \n",
       "0                   0.00          Neutral  \n",
       "1                   0.00          Neutral  \n",
       "2                   0.00          Neutral  \n",
       "3                   0.05         Positive  \n",
       "4                   0.00          Neutral  \n",
       "...                  ...              ...  \n",
       "2535                0.15         Positive  \n",
       "2536                0.00          Neutral  \n",
       "2537                0.00          Neutral  \n",
       "2538                0.10         Positive  \n",
       "2539                0.20         Positive  \n",
       "\n",
       "[2540 rows x 4 columns]"
      ]
     },
     "execution_count": 146,
     "metadata": {},
     "output_type": "execute_result"
    }
   ],
   "source": [
    "biden"
   ]
  },
  {
   "cell_type": "code",
   "execution_count": 147,
   "id": "d31af897",
   "metadata": {},
   "outputs": [
    {
     "name": "stdout",
     "output_type": "stream",
     "text": [
      "(1464, 4)\n"
     ]
    }
   ],
   "source": [
    "n_trump=trump[trump['Sentiment Polarity']==0.0000]\n",
    "print(n_trump.shape)"
   ]
  },
  {
   "cell_type": "code",
   "execution_count": 148,
   "id": "53a1a5dc",
   "metadata": {},
   "outputs": [
    {
     "data": {
      "text/plain": [
       "0       False\n",
       "1        True\n",
       "2       False\n",
       "3       False\n",
       "4        True\n",
       "        ...  \n",
       "2783     True\n",
       "2784     True\n",
       "2785    False\n",
       "2786     True\n",
       "2787    False\n",
       "Name: Sentiment Polarity, Length: 2788, dtype: bool"
      ]
     },
     "execution_count": 148,
     "metadata": {},
     "output_type": "execute_result"
    }
   ],
   "source": [
    "cond1=trump['Sentiment Polarity'].isin(n_trump['Sentiment Polarity'])\n",
    "cond1"
   ]
  },
  {
   "cell_type": "code",
   "execution_count": 149,
   "id": "43fc65c0",
   "metadata": {},
   "outputs": [
    {
     "data": {
      "text/html": [
       "<div>\n",
       "<style scoped>\n",
       "    .dataframe tbody tr th:only-of-type {\n",
       "        vertical-align: middle;\n",
       "    }\n",
       "\n",
       "    .dataframe tbody tr th {\n",
       "        vertical-align: top;\n",
       "    }\n",
       "\n",
       "    .dataframe thead th {\n",
       "        text-align: right;\n",
       "    }\n",
       "</style>\n",
       "<table border=\"1\" class=\"dataframe\">\n",
       "  <thead>\n",
       "    <tr style=\"text-align: right;\">\n",
       "      <th></th>\n",
       "      <th>user</th>\n",
       "      <th>text</th>\n",
       "      <th>Sentiment Polarity</th>\n",
       "      <th>Expression Label</th>\n",
       "    </tr>\n",
       "  </thead>\n",
       "  <tbody>\n",
       "    <tr>\n",
       "      <th>1</th>\n",
       "      <td>osi_abdul</td>\n",
       "      <td>https://t.co/atM98CpqF7  Like, comment, RT #P...</td>\n",
       "      <td>0.0</td>\n",
       "      <td>Neutral</td>\n",
       "    </tr>\n",
       "    <tr>\n",
       "      <th>4</th>\n",
       "      <td>James09254677</td>\n",
       "      <td>After 4 years you think you would have figure...</td>\n",
       "      <td>0.0</td>\n",
       "      <td>Neutral</td>\n",
       "    </tr>\n",
       "    <tr>\n",
       "      <th>5</th>\n",
       "      <td>IndependentsDo</td>\n",
       "      <td>You lie to lie to cover up a lie to cover up...</td>\n",
       "      <td>0.0</td>\n",
       "      <td>Neutral</td>\n",
       "    </tr>\n",
       "    <tr>\n",
       "      <th>7</th>\n",
       "      <td>shayked5777</td>\n",
       "      <td>Don, you are delusion.  Someone needs to invo...</td>\n",
       "      <td>0.0</td>\n",
       "      <td>Neutral</td>\n",
       "    </tr>\n",
       "    <tr>\n",
       "      <th>9</th>\n",
       "      <td>Chris09704800</td>\n",
       "      <td>https://t.co/MsPqMjxUpk</td>\n",
       "      <td>0.0</td>\n",
       "      <td>Neutral</td>\n",
       "    </tr>\n",
       "    <tr>\n",
       "      <th>...</th>\n",
       "      <td>...</td>\n",
       "      <td>...</td>\n",
       "      <td>...</td>\n",
       "      <td>...</td>\n",
       "    </tr>\n",
       "    <tr>\n",
       "      <th>2780</th>\n",
       "      <td>OHsOfOCUSEd10</td>\n",
       "      <td>@realDonaldTrump You do realize that you still...</td>\n",
       "      <td>0.0</td>\n",
       "      <td>Neutral</td>\n",
       "    </tr>\n",
       "    <tr>\n",
       "      <th>2781</th>\n",
       "      <td>tb_in_calgary</td>\n",
       "      <td>@realDonaldTrump 2nd only to yours.</td>\n",
       "      <td>0.0</td>\n",
       "      <td>Neutral</td>\n",
       "    </tr>\n",
       "    <tr>\n",
       "      <th>2783</th>\n",
       "      <td>4diva63</td>\n",
       "      <td>@realDonaldTrump For the 1/100 time, absentee ...</td>\n",
       "      <td>0.0</td>\n",
       "      <td>Neutral</td>\n",
       "    </tr>\n",
       "    <tr>\n",
       "      <th>2784</th>\n",
       "      <td>hidge826</td>\n",
       "      <td>@realDonaldTrump If you’re so scared of losing...</td>\n",
       "      <td>0.0</td>\n",
       "      <td>Neutral</td>\n",
       "    </tr>\n",
       "    <tr>\n",
       "      <th>2786</th>\n",
       "      <td>ScoobyMcpherson</td>\n",
       "      <td>@realDonaldTrump This is the moment when Trump...</td>\n",
       "      <td>0.0</td>\n",
       "      <td>Neutral</td>\n",
       "    </tr>\n",
       "  </tbody>\n",
       "</table>\n",
       "<p>1464 rows × 4 columns</p>\n",
       "</div>"
      ],
      "text/plain": [
       "                 user                                               text  \\\n",
       "1           osi_abdul   https://t.co/atM98CpqF7  Like, comment, RT #P...   \n",
       "4       James09254677   After 4 years you think you would have figure...   \n",
       "5      IndependentsDo    You lie to lie to cover up a lie to cover up...   \n",
       "7         shayked5777   Don, you are delusion.  Someone needs to invo...   \n",
       "9       Chris09704800                            https://t.co/MsPqMjxUpk   \n",
       "...               ...                                                ...   \n",
       "2780    OHsOfOCUSEd10  @realDonaldTrump You do realize that you still...   \n",
       "2781    tb_in_calgary                @realDonaldTrump 2nd only to yours.   \n",
       "2783          4diva63  @realDonaldTrump For the 1/100 time, absentee ...   \n",
       "2784         hidge826  @realDonaldTrump If you’re so scared of losing...   \n",
       "2786  ScoobyMcpherson  @realDonaldTrump This is the moment when Trump...   \n",
       "\n",
       "      Sentiment Polarity Expression Label  \n",
       "1                    0.0          Neutral  \n",
       "4                    0.0          Neutral  \n",
       "5                    0.0          Neutral  \n",
       "7                    0.0          Neutral  \n",
       "9                    0.0          Neutral  \n",
       "...                  ...              ...  \n",
       "2780                 0.0          Neutral  \n",
       "2781                 0.0          Neutral  \n",
       "2783                 0.0          Neutral  \n",
       "2784                 0.0          Neutral  \n",
       "2786                 0.0          Neutral  \n",
       "\n",
       "[1464 rows x 4 columns]"
      ]
     },
     "execution_count": 149,
     "metadata": {},
     "output_type": "execute_result"
    }
   ],
   "source": [
    "trump[cond1]"
   ]
  },
  {
   "cell_type": "code",
   "execution_count": 150,
   "id": "18045694",
   "metadata": {},
   "outputs": [],
   "source": [
    "trump.drop(trump[cond1].index,inplace=True)"
   ]
  },
  {
   "cell_type": "code",
   "execution_count": 151,
   "id": "2bdf6de5",
   "metadata": {},
   "outputs": [
    {
     "name": "stdout",
     "output_type": "stream",
     "text": [
      "(1324, 4)\n"
     ]
    }
   ],
   "source": [
    "print(trump.shape)"
   ]
  },
  {
   "cell_type": "code",
   "execution_count": 152,
   "id": "ec925838",
   "metadata": {},
   "outputs": [
    {
     "data": {
      "text/html": [
       "<div>\n",
       "<style scoped>\n",
       "    .dataframe tbody tr th:only-of-type {\n",
       "        vertical-align: middle;\n",
       "    }\n",
       "\n",
       "    .dataframe tbody tr th {\n",
       "        vertical-align: top;\n",
       "    }\n",
       "\n",
       "    .dataframe thead th {\n",
       "        text-align: right;\n",
       "    }\n",
       "</style>\n",
       "<table border=\"1\" class=\"dataframe\">\n",
       "  <thead>\n",
       "    <tr style=\"text-align: right;\">\n",
       "      <th></th>\n",
       "      <th>user</th>\n",
       "      <th>text</th>\n",
       "      <th>Sentiment Polarity</th>\n",
       "      <th>Expression Label</th>\n",
       "    </tr>\n",
       "  </thead>\n",
       "  <tbody>\n",
       "    <tr>\n",
       "      <th>0</th>\n",
       "      <td>manny_rosen</td>\n",
       "      <td>@sanofi please tell us how many shares the Cr...</td>\n",
       "      <td>0.0500</td>\n",
       "      <td>Positive</td>\n",
       "    </tr>\n",
       "    <tr>\n",
       "      <th>2</th>\n",
       "      <td>Patsyrw</td>\n",
       "      <td>Your AG Barr is as useless &amp;amp; corrupt as y...</td>\n",
       "      <td>-0.5000</td>\n",
       "      <td>Negative</td>\n",
       "    </tr>\n",
       "    <tr>\n",
       "      <th>3</th>\n",
       "      <td>seyedebrahimi_m</td>\n",
       "      <td>Mr. Trump! Wake Up!  Most of the comments bel...</td>\n",
       "      <td>0.5000</td>\n",
       "      <td>Positive</td>\n",
       "    </tr>\n",
       "    <tr>\n",
       "      <th>6</th>\n",
       "      <td>curtiswhitworth</td>\n",
       "      <td>Really? My prices have gone up. That’s a fact.</td>\n",
       "      <td>0.2000</td>\n",
       "      <td>Positive</td>\n",
       "    </tr>\n",
       "    <tr>\n",
       "      <th>8</th>\n",
       "      <td>CantStandya2018</td>\n",
       "      <td>How much on stocks have you made pushing mira...</td>\n",
       "      <td>0.3500</td>\n",
       "      <td>Positive</td>\n",
       "    </tr>\n",
       "    <tr>\n",
       "      <th>...</th>\n",
       "      <td>...</td>\n",
       "      <td>...</td>\n",
       "      <td>...</td>\n",
       "      <td>...</td>\n",
       "    </tr>\n",
       "    <tr>\n",
       "      <th>2771</th>\n",
       "      <td>MickyLafferty</td>\n",
       "      <td>@realDonaldTrump Yeah, you're definitely afrai...</td>\n",
       "      <td>-0.6000</td>\n",
       "      <td>Negative</td>\n",
       "    </tr>\n",
       "    <tr>\n",
       "      <th>2773</th>\n",
       "      <td>connor182010</td>\n",
       "      <td>@realDonaldTrump Oh is little baby scared to b...</td>\n",
       "      <td>-0.1875</td>\n",
       "      <td>Negative</td>\n",
       "    </tr>\n",
       "    <tr>\n",
       "      <th>2782</th>\n",
       "      <td>Crystal60151335</td>\n",
       "      <td>@realDonaldTrump Absolutely!</td>\n",
       "      <td>0.2500</td>\n",
       "      <td>Positive</td>\n",
       "    </tr>\n",
       "    <tr>\n",
       "      <th>2785</th>\n",
       "      <td>SpencerRossy</td>\n",
       "      <td>@realDonaldTrump I rarely get involved with fo...</td>\n",
       "      <td>0.2250</td>\n",
       "      <td>Positive</td>\n",
       "    </tr>\n",
       "    <tr>\n",
       "      <th>2787</th>\n",
       "      <td>bjklinz</td>\n",
       "      <td>@realDonaldTrump I’m sorry, Donald. No. #POTUS</td>\n",
       "      <td>-0.5000</td>\n",
       "      <td>Negative</td>\n",
       "    </tr>\n",
       "  </tbody>\n",
       "</table>\n",
       "<p>1324 rows × 4 columns</p>\n",
       "</div>"
      ],
      "text/plain": [
       "                 user                                               text  \\\n",
       "0         manny_rosen   @sanofi please tell us how many shares the Cr...   \n",
       "2             Patsyrw   Your AG Barr is as useless &amp; corrupt as y...   \n",
       "3     seyedebrahimi_m   Mr. Trump! Wake Up!  Most of the comments bel...   \n",
       "6     curtiswhitworth     Really? My prices have gone up. That’s a fact.   \n",
       "8     CantStandya2018   How much on stocks have you made pushing mira...   \n",
       "...               ...                                                ...   \n",
       "2771    MickyLafferty  @realDonaldTrump Yeah, you're definitely afrai...   \n",
       "2773     connor182010  @realDonaldTrump Oh is little baby scared to b...   \n",
       "2782  Crystal60151335                       @realDonaldTrump Absolutely!   \n",
       "2785     SpencerRossy  @realDonaldTrump I rarely get involved with fo...   \n",
       "2787          bjklinz     @realDonaldTrump I’m sorry, Donald. No. #POTUS   \n",
       "\n",
       "      Sentiment Polarity Expression Label  \n",
       "0                 0.0500         Positive  \n",
       "2                -0.5000         Negative  \n",
       "3                 0.5000         Positive  \n",
       "6                 0.2000         Positive  \n",
       "8                 0.3500         Positive  \n",
       "...                  ...              ...  \n",
       "2771             -0.6000         Negative  \n",
       "2773             -0.1875         Negative  \n",
       "2782              0.2500         Positive  \n",
       "2785              0.2250         Positive  \n",
       "2787             -0.5000         Negative  \n",
       "\n",
       "[1324 rows x 4 columns]"
      ]
     },
     "execution_count": 152,
     "metadata": {},
     "output_type": "execute_result"
    }
   ],
   "source": [
    "trump"
   ]
  },
  {
   "cell_type": "code",
   "execution_count": 153,
   "id": "1f19ba2a",
   "metadata": {},
   "outputs": [
    {
     "name": "stdout",
     "output_type": "stream",
     "text": [
      "(1509, 4)\n"
     ]
    }
   ],
   "source": [
    "n_biden=biden[biden['Sentiment Polarity']==0]\n",
    "print(n_biden.shape)"
   ]
  },
  {
   "cell_type": "code",
   "execution_count": 155,
   "id": "68e1257d",
   "metadata": {},
   "outputs": [
    {
     "data": {
      "text/plain": [
       "0        True\n",
       "1        True\n",
       "2        True\n",
       "3       False\n",
       "4        True\n",
       "        ...  \n",
       "2535    False\n",
       "2536     True\n",
       "2537     True\n",
       "2538    False\n",
       "2539    False\n",
       "Name: Sentiment Polarity, Length: 2540, dtype: bool"
      ]
     },
     "execution_count": 155,
     "metadata": {},
     "output_type": "execute_result"
    }
   ],
   "source": [
    "cond2=biden['Sentiment Polarity'].isin(n_biden['Sentiment Polarity'])\n",
    "cond2"
   ]
  },
  {
   "cell_type": "code",
   "execution_count": 156,
   "id": "64d26980",
   "metadata": {},
   "outputs": [
    {
     "data": {
      "text/html": [
       "<div>\n",
       "<style scoped>\n",
       "    .dataframe tbody tr th:only-of-type {\n",
       "        vertical-align: middle;\n",
       "    }\n",
       "\n",
       "    .dataframe tbody tr th {\n",
       "        vertical-align: top;\n",
       "    }\n",
       "\n",
       "    .dataframe thead th {\n",
       "        text-align: right;\n",
       "    }\n",
       "</style>\n",
       "<table border=\"1\" class=\"dataframe\">\n",
       "  <thead>\n",
       "    <tr style=\"text-align: right;\">\n",
       "      <th></th>\n",
       "      <th>user</th>\n",
       "      <th>text</th>\n",
       "      <th>Sentiment Polarity</th>\n",
       "      <th>Expression Label</th>\n",
       "    </tr>\n",
       "  </thead>\n",
       "  <tbody>\n",
       "    <tr>\n",
       "      <th>0</th>\n",
       "      <td>MarkHodder3</td>\n",
       "      <td>@JoeBiden And we’ll find out who won in 2026...</td>\n",
       "      <td>0.0</td>\n",
       "      <td>Neutral</td>\n",
       "    </tr>\n",
       "    <tr>\n",
       "      <th>1</th>\n",
       "      <td>K87327961G</td>\n",
       "      <td>@JoeBiden Your Democratic Nazi Party cannot be...</td>\n",
       "      <td>0.0</td>\n",
       "      <td>Neutral</td>\n",
       "    </tr>\n",
       "    <tr>\n",
       "      <th>2</th>\n",
       "      <td>OldlaceA</td>\n",
       "      <td>@JoeBiden So did Lying Barr</td>\n",
       "      <td>0.0</td>\n",
       "      <td>Neutral</td>\n",
       "    </tr>\n",
       "    <tr>\n",
       "      <th>4</th>\n",
       "      <td>Aquarian0264</td>\n",
       "      <td>@JoeBiden I will vote in person thank you.</td>\n",
       "      <td>0.0</td>\n",
       "      <td>Neutral</td>\n",
       "    </tr>\n",
       "    <tr>\n",
       "      <th>6</th>\n",
       "      <td>motter_sue</td>\n",
       "      <td>@JoeBiden @JustVent6 As if you kno how he voted!!</td>\n",
       "      <td>0.0</td>\n",
       "      <td>Neutral</td>\n",
       "    </tr>\n",
       "    <tr>\n",
       "      <th>...</th>\n",
       "      <td>...</td>\n",
       "      <td>...</td>\n",
       "      <td>...</td>\n",
       "      <td>...</td>\n",
       "    </tr>\n",
       "    <tr>\n",
       "      <th>2530</th>\n",
       "      <td>harrigill</td>\n",
       "      <td>@JoeBiden Don't you have someone's hair to sniff?</td>\n",
       "      <td>0.0</td>\n",
       "      <td>Neutral</td>\n",
       "    </tr>\n",
       "    <tr>\n",
       "      <th>2531</th>\n",
       "      <td>bernard_a81</td>\n",
       "      <td>@JoeBiden Mr.B7den - what are you doing about ...</td>\n",
       "      <td>0.0</td>\n",
       "      <td>Neutral</td>\n",
       "    </tr>\n",
       "    <tr>\n",
       "      <th>2533</th>\n",
       "      <td>CranstonMalcolm</td>\n",
       "      <td>@JoeBiden https://t.co/NJWhlsDTCY</td>\n",
       "      <td>0.0</td>\n",
       "      <td>Neutral</td>\n",
       "    </tr>\n",
       "    <tr>\n",
       "      <th>2536</th>\n",
       "      <td>BSNelson114</td>\n",
       "      <td>@JoeBiden 96 days 96 dias #VoteJoeBiden2020  #...</td>\n",
       "      <td>0.0</td>\n",
       "      <td>Neutral</td>\n",
       "    </tr>\n",
       "    <tr>\n",
       "      <th>2537</th>\n",
       "      <td>KenCapel</td>\n",
       "      <td>@JoeBiden YOU THINK YOU CAN DO THAT??? YOU CAN...</td>\n",
       "      <td>0.0</td>\n",
       "      <td>Neutral</td>\n",
       "    </tr>\n",
       "  </tbody>\n",
       "</table>\n",
       "<p>1509 rows × 4 columns</p>\n",
       "</div>"
      ],
      "text/plain": [
       "                 user                                               text  \\\n",
       "0         MarkHodder3    @JoeBiden And we’ll find out who won in 2026...   \n",
       "1          K87327961G  @JoeBiden Your Democratic Nazi Party cannot be...   \n",
       "2            OldlaceA                        @JoeBiden So did Lying Barr   \n",
       "4        Aquarian0264         @JoeBiden I will vote in person thank you.   \n",
       "6          motter_sue  @JoeBiden @JustVent6 As if you kno how he voted!!   \n",
       "...               ...                                                ...   \n",
       "2530        harrigill  @JoeBiden Don't you have someone's hair to sniff?   \n",
       "2531      bernard_a81  @JoeBiden Mr.B7den - what are you doing about ...   \n",
       "2533  CranstonMalcolm                  @JoeBiden https://t.co/NJWhlsDTCY   \n",
       "2536      BSNelson114  @JoeBiden 96 days 96 dias #VoteJoeBiden2020  #...   \n",
       "2537         KenCapel  @JoeBiden YOU THINK YOU CAN DO THAT??? YOU CAN...   \n",
       "\n",
       "      Sentiment Polarity Expression Label  \n",
       "0                    0.0          Neutral  \n",
       "1                    0.0          Neutral  \n",
       "2                    0.0          Neutral  \n",
       "4                    0.0          Neutral  \n",
       "6                    0.0          Neutral  \n",
       "...                  ...              ...  \n",
       "2530                 0.0          Neutral  \n",
       "2531                 0.0          Neutral  \n",
       "2533                 0.0          Neutral  \n",
       "2536                 0.0          Neutral  \n",
       "2537                 0.0          Neutral  \n",
       "\n",
       "[1509 rows x 4 columns]"
      ]
     },
     "execution_count": 156,
     "metadata": {},
     "output_type": "execute_result"
    }
   ],
   "source": [
    "biden[cond2]"
   ]
  },
  {
   "cell_type": "code",
   "execution_count": 158,
   "id": "a33806d9",
   "metadata": {},
   "outputs": [],
   "source": [
    "biden.drop(biden[cond2].index,inplace=True)"
   ]
  },
  {
   "cell_type": "code",
   "execution_count": 159,
   "id": "dfbe5607",
   "metadata": {},
   "outputs": [
    {
     "name": "stdout",
     "output_type": "stream",
     "text": [
      "(1031, 4)\n"
     ]
    }
   ],
   "source": [
    "print(biden.shape)"
   ]
  },
  {
   "cell_type": "code",
   "execution_count": 160,
   "id": "65eaac1a",
   "metadata": {},
   "outputs": [
    {
     "data": {
      "text/html": [
       "<div>\n",
       "<style scoped>\n",
       "    .dataframe tbody tr th:only-of-type {\n",
       "        vertical-align: middle;\n",
       "    }\n",
       "\n",
       "    .dataframe tbody tr th {\n",
       "        vertical-align: top;\n",
       "    }\n",
       "\n",
       "    .dataframe thead th {\n",
       "        text-align: right;\n",
       "    }\n",
       "</style>\n",
       "<table border=\"1\" class=\"dataframe\">\n",
       "  <thead>\n",
       "    <tr style=\"text-align: right;\">\n",
       "      <th></th>\n",
       "      <th>user</th>\n",
       "      <th>text</th>\n",
       "      <th>Sentiment Polarity</th>\n",
       "      <th>Expression Label</th>\n",
       "    </tr>\n",
       "  </thead>\n",
       "  <tbody>\n",
       "    <tr>\n",
       "      <th>3</th>\n",
       "      <td>penblogger</td>\n",
       "      <td>@JoeBiden It's clear you didnt compose this tw...</td>\n",
       "      <td>0.050000</td>\n",
       "      <td>Positive</td>\n",
       "    </tr>\n",
       "    <tr>\n",
       "      <th>5</th>\n",
       "      <td>FabrizioBenass4</td>\n",
       "      <td>@JoeBiden #ALL LIVES MATTER #HUMAN RIGHTS HELP...</td>\n",
       "      <td>0.033333</td>\n",
       "      <td>Positive</td>\n",
       "    </tr>\n",
       "    <tr>\n",
       "      <th>13</th>\n",
       "      <td>candyisyummy333</td>\n",
       "      <td>@JoeBiden My standard reply to propaganda: htt...</td>\n",
       "      <td>-0.050000</td>\n",
       "      <td>Negative</td>\n",
       "    </tr>\n",
       "    <tr>\n",
       "      <th>14</th>\n",
       "      <td>5h0rtie</td>\n",
       "      <td>@JoeBiden @richardmarx Trouble is trump voted ...</td>\n",
       "      <td>-0.200000</td>\n",
       "      <td>Negative</td>\n",
       "    </tr>\n",
       "    <tr>\n",
       "      <th>15</th>\n",
       "      <td>shut_up_stewart</td>\n",
       "      <td>@JoeBiden I honestly cannot comprehend how a c...</td>\n",
       "      <td>0.200000</td>\n",
       "      <td>Positive</td>\n",
       "    </tr>\n",
       "    <tr>\n",
       "      <th>...</th>\n",
       "      <td>...</td>\n",
       "      <td>...</td>\n",
       "      <td>...</td>\n",
       "      <td>...</td>\n",
       "    </tr>\n",
       "    <tr>\n",
       "      <th>2532</th>\n",
       "      <td>Gypsy0112</td>\n",
       "      <td>@JoeBiden The only you can do to  calm the wat...</td>\n",
       "      <td>0.150000</td>\n",
       "      <td>Positive</td>\n",
       "    </tr>\n",
       "    <tr>\n",
       "      <th>2534</th>\n",
       "      <td>virgil_merchant</td>\n",
       "      <td>@JoeBiden fire is the last thing our country n...</td>\n",
       "      <td>0.142857</td>\n",
       "      <td>Positive</td>\n",
       "    </tr>\n",
       "    <tr>\n",
       "      <th>2535</th>\n",
       "      <td>meryn1977</td>\n",
       "      <td>@JoeBiden You'll just try to calm those waters...</td>\n",
       "      <td>0.150000</td>\n",
       "      <td>Positive</td>\n",
       "    </tr>\n",
       "    <tr>\n",
       "      <th>2538</th>\n",
       "      <td>LeslyeHale</td>\n",
       "      <td>@JoeBiden Trump wants our children back at sch...</td>\n",
       "      <td>0.100000</td>\n",
       "      <td>Positive</td>\n",
       "    </tr>\n",
       "    <tr>\n",
       "      <th>2539</th>\n",
       "      <td>rerickre</td>\n",
       "      <td>@JoeBiden ... and I know, because it’s much co...</td>\n",
       "      <td>0.200000</td>\n",
       "      <td>Positive</td>\n",
       "    </tr>\n",
       "  </tbody>\n",
       "</table>\n",
       "<p>1031 rows × 4 columns</p>\n",
       "</div>"
      ],
      "text/plain": [
       "                 user                                               text  \\\n",
       "3          penblogger  @JoeBiden It's clear you didnt compose this tw...   \n",
       "5     FabrizioBenass4  @JoeBiden #ALL LIVES MATTER #HUMAN RIGHTS HELP...   \n",
       "13    candyisyummy333  @JoeBiden My standard reply to propaganda: htt...   \n",
       "14            5h0rtie  @JoeBiden @richardmarx Trouble is trump voted ...   \n",
       "15    shut_up_stewart  @JoeBiden I honestly cannot comprehend how a c...   \n",
       "...               ...                                                ...   \n",
       "2532        Gypsy0112  @JoeBiden The only you can do to  calm the wat...   \n",
       "2534  virgil_merchant  @JoeBiden fire is the last thing our country n...   \n",
       "2535        meryn1977  @JoeBiden You'll just try to calm those waters...   \n",
       "2538       LeslyeHale  @JoeBiden Trump wants our children back at sch...   \n",
       "2539         rerickre  @JoeBiden ... and I know, because it’s much co...   \n",
       "\n",
       "      Sentiment Polarity Expression Label  \n",
       "3               0.050000         Positive  \n",
       "5               0.033333         Positive  \n",
       "13             -0.050000         Negative  \n",
       "14             -0.200000         Negative  \n",
       "15              0.200000         Positive  \n",
       "...                  ...              ...  \n",
       "2532            0.150000         Positive  \n",
       "2534            0.142857         Positive  \n",
       "2535            0.150000         Positive  \n",
       "2538            0.100000         Positive  \n",
       "2539            0.200000         Positive  \n",
       "\n",
       "[1031 rows x 4 columns]"
      ]
     },
     "execution_count": 160,
     "metadata": {},
     "output_type": "execute_result"
    }
   ],
   "source": [
    "biden"
   ]
  },
  {
   "cell_type": "code",
   "execution_count": 170,
   "id": "60b60df4",
   "metadata": {},
   "outputs": [
    {
     "name": "stdout",
     "output_type": "stream",
     "text": [
      "(1324, 4)\n",
      "(1000, 4)\n"
     ]
    }
   ],
   "source": [
    "# trump\n",
    "np.random.seed(10)\n",
    "remove_n=324\n",
    "drop_indices=np.random.choice(trump.index,remove_n,replace=False)\n",
    "df_subset_trump=trump.drop(drop_indices)\n",
    "print(trump.shape)\n",
    "print(df_subset_trump.shape)"
   ]
  },
  {
   "cell_type": "code",
   "execution_count": 171,
   "id": "cfd86ea0",
   "metadata": {},
   "outputs": [
    {
     "name": "stdout",
     "output_type": "stream",
     "text": [
      "(1031, 4)\n",
      "(1000, 4)\n"
     ]
    }
   ],
   "source": [
    "# biden\n",
    "np.random.seed(10)\n",
    "remove_n2=31\n",
    "drop_indices2=np.random.choice(biden.index,remove_n2,replace=False)\n",
    "df_subset_biden=biden.drop(drop_indices2)\n",
    "print(biden.shape)\n",
    "print(df_subset_biden.shape)"
   ]
  },
  {
   "cell_type": "code",
   "execution_count": 173,
   "id": "aad0b6b3",
   "metadata": {},
   "outputs": [
    {
     "data": {
      "text/html": [
       "<div>\n",
       "<style scoped>\n",
       "    .dataframe tbody tr th:only-of-type {\n",
       "        vertical-align: middle;\n",
       "    }\n",
       "\n",
       "    .dataframe tbody tr th {\n",
       "        vertical-align: top;\n",
       "    }\n",
       "\n",
       "    .dataframe thead th {\n",
       "        text-align: right;\n",
       "    }\n",
       "</style>\n",
       "<table border=\"1\" class=\"dataframe\">\n",
       "  <thead>\n",
       "    <tr style=\"text-align: right;\">\n",
       "      <th></th>\n",
       "      <th>user</th>\n",
       "      <th>text</th>\n",
       "      <th>Sentiment Polarity</th>\n",
       "    </tr>\n",
       "    <tr>\n",
       "      <th>Expression Label</th>\n",
       "      <th></th>\n",
       "      <th></th>\n",
       "      <th></th>\n",
       "    </tr>\n",
       "  </thead>\n",
       "  <tbody>\n",
       "    <tr>\n",
       "      <th>Negative</th>\n",
       "      <td>449</td>\n",
       "      <td>449</td>\n",
       "      <td>449</td>\n",
       "    </tr>\n",
       "    <tr>\n",
       "      <th>Positive</th>\n",
       "      <td>551</td>\n",
       "      <td>551</td>\n",
       "      <td>551</td>\n",
       "    </tr>\n",
       "  </tbody>\n",
       "</table>\n",
       "</div>"
      ],
      "text/plain": [
       "                  user  text  Sentiment Polarity\n",
       "Expression Label                                \n",
       "Negative           449   449                 449\n",
       "Positive           551   551                 551"
      ]
     },
     "execution_count": 173,
     "metadata": {},
     "output_type": "execute_result"
    }
   ],
   "source": [
    "count1=df_subset_trump.groupby('Expression Label').count()\n",
    "count1"
   ]
  },
  {
   "cell_type": "code",
   "execution_count": 178,
   "id": "986009c6",
   "metadata": {},
   "outputs": [
    {
     "data": {
      "text/plain": [
       "449"
      ]
     },
     "execution_count": 178,
     "metadata": {},
     "output_type": "execute_result"
    }
   ],
   "source": [
    "count1['Sentiment Polarity'][0]"
   ]
  },
  {
   "cell_type": "code",
   "execution_count": 179,
   "id": "a6e13e5e",
   "metadata": {},
   "outputs": [
    {
     "data": {
      "text/plain": [
       "551"
      ]
     },
     "execution_count": 179,
     "metadata": {},
     "output_type": "execute_result"
    }
   ],
   "source": [
    "count1['Sentiment Polarity'][1]"
   ]
  },
  {
   "cell_type": "code",
   "execution_count": 191,
   "id": "81e3e3a3",
   "metadata": {},
   "outputs": [],
   "source": [
    "neg_per1=(count1['Sentiment Polarity'][0]/1000)*100\n",
    "pos_per1=(count1['Sentiment Polarity'][1]/1000)*100"
   ]
  },
  {
   "cell_type": "code",
   "execution_count": 192,
   "id": "a7f5606a",
   "metadata": {},
   "outputs": [
    {
     "data": {
      "text/plain": [
       "55.1"
      ]
     },
     "execution_count": 192,
     "metadata": {},
     "output_type": "execute_result"
    }
   ],
   "source": [
    "pos_per1"
   ]
  },
  {
   "cell_type": "code",
   "execution_count": 193,
   "id": "cfb2bf3c",
   "metadata": {},
   "outputs": [
    {
     "data": {
      "text/plain": [
       "44.9"
      ]
     },
     "execution_count": 193,
     "metadata": {},
     "output_type": "execute_result"
    }
   ],
   "source": [
    "neg_per1"
   ]
  },
  {
   "cell_type": "code",
   "execution_count": 194,
   "id": "f6808298",
   "metadata": {},
   "outputs": [
    {
     "data": {
      "text/html": [
       "<div>\n",
       "<style scoped>\n",
       "    .dataframe tbody tr th:only-of-type {\n",
       "        vertical-align: middle;\n",
       "    }\n",
       "\n",
       "    .dataframe tbody tr th {\n",
       "        vertical-align: top;\n",
       "    }\n",
       "\n",
       "    .dataframe thead th {\n",
       "        text-align: right;\n",
       "    }\n",
       "</style>\n",
       "<table border=\"1\" class=\"dataframe\">\n",
       "  <thead>\n",
       "    <tr style=\"text-align: right;\">\n",
       "      <th></th>\n",
       "      <th>user</th>\n",
       "      <th>text</th>\n",
       "      <th>Sentiment Polarity</th>\n",
       "    </tr>\n",
       "    <tr>\n",
       "      <th>Expression Label</th>\n",
       "      <th></th>\n",
       "      <th></th>\n",
       "      <th></th>\n",
       "    </tr>\n",
       "  </thead>\n",
       "  <tbody>\n",
       "    <tr>\n",
       "      <th>Negative</th>\n",
       "      <td>393</td>\n",
       "      <td>393</td>\n",
       "      <td>393</td>\n",
       "    </tr>\n",
       "    <tr>\n",
       "      <th>Positive</th>\n",
       "      <td>607</td>\n",
       "      <td>607</td>\n",
       "      <td>607</td>\n",
       "    </tr>\n",
       "  </tbody>\n",
       "</table>\n",
       "</div>"
      ],
      "text/plain": [
       "                  user  text  Sentiment Polarity\n",
       "Expression Label                                \n",
       "Negative           393   393                 393\n",
       "Positive           607   607                 607"
      ]
     },
     "execution_count": 194,
     "metadata": {},
     "output_type": "execute_result"
    }
   ],
   "source": [
    "count2=df_subset_biden.groupby('Expression Label').count()\n",
    "count2"
   ]
  },
  {
   "cell_type": "code",
   "execution_count": 196,
   "id": "2384adca",
   "metadata": {},
   "outputs": [],
   "source": [
    "neg_per2=(count2['Sentiment Polarity'][0]/1000)*100\n",
    "pos_per2=(count2['Sentiment Polarity'][1]/1000)*100"
   ]
  },
  {
   "cell_type": "code",
   "execution_count": 197,
   "id": "3099dce5",
   "metadata": {},
   "outputs": [
    {
     "data": {
      "text/plain": [
       "39.300000000000004"
      ]
     },
     "execution_count": 197,
     "metadata": {},
     "output_type": "execute_result"
    }
   ],
   "source": [
    "neg_per2"
   ]
  },
  {
   "cell_type": "code",
   "execution_count": 198,
   "id": "cd503c37",
   "metadata": {},
   "outputs": [
    {
     "data": {
      "text/plain": [
       "60.699999999999996"
      ]
     },
     "execution_count": 198,
     "metadata": {},
     "output_type": "execute_result"
    }
   ],
   "source": [
    "pos_per2"
   ]
  },
  {
   "cell_type": "code",
   "execution_count": 204,
   "id": "68cc21ad",
   "metadata": {},
   "outputs": [],
   "source": [
    "politicians=['Trump','Biden']\n",
    "lis_pos=[pos_per1,pos_per2]\n",
    "lis_neg=[neg_per1,neg_per2]"
   ]
  },
  {
   "cell_type": "code",
   "execution_count": 206,
   "id": "696ca3d3",
   "metadata": {},
   "outputs": [
    {
     "data": {
      "application/vnd.plotly.v1+json": {
       "config": {
        "plotlyServerURL": "https://plot.ly"
       },
       "data": [
        {
         "name": "Positive",
         "type": "bar",
         "x": [
          "Trump",
          "Biden"
         ],
         "y": [
          55.1,
          60.699999999999996
         ]
        },
        {
         "name": "Negative",
         "type": "bar",
         "x": [
          "Trump",
          "Biden"
         ],
         "y": [
          44.9,
          39.300000000000004
         ]
        }
       ],
       "layout": {
        "barmode": "group",
        "template": {
         "data": {
          "bar": [
           {
            "error_x": {
             "color": "#2a3f5f"
            },
            "error_y": {
             "color": "#2a3f5f"
            },
            "marker": {
             "line": {
              "color": "#E5ECF6",
              "width": 0.5
             },
             "pattern": {
              "fillmode": "overlay",
              "size": 10,
              "solidity": 0.2
             }
            },
            "type": "bar"
           }
          ],
          "barpolar": [
           {
            "marker": {
             "line": {
              "color": "#E5ECF6",
              "width": 0.5
             },
             "pattern": {
              "fillmode": "overlay",
              "size": 10,
              "solidity": 0.2
             }
            },
            "type": "barpolar"
           }
          ],
          "carpet": [
           {
            "aaxis": {
             "endlinecolor": "#2a3f5f",
             "gridcolor": "white",
             "linecolor": "white",
             "minorgridcolor": "white",
             "startlinecolor": "#2a3f5f"
            },
            "baxis": {
             "endlinecolor": "#2a3f5f",
             "gridcolor": "white",
             "linecolor": "white",
             "minorgridcolor": "white",
             "startlinecolor": "#2a3f5f"
            },
            "type": "carpet"
           }
          ],
          "choropleth": [
           {
            "colorbar": {
             "outlinewidth": 0,
             "ticks": ""
            },
            "type": "choropleth"
           }
          ],
          "contour": [
           {
            "colorbar": {
             "outlinewidth": 0,
             "ticks": ""
            },
            "colorscale": [
             [
              0,
              "#0d0887"
             ],
             [
              0.1111111111111111,
              "#46039f"
             ],
             [
              0.2222222222222222,
              "#7201a8"
             ],
             [
              0.3333333333333333,
              "#9c179e"
             ],
             [
              0.4444444444444444,
              "#bd3786"
             ],
             [
              0.5555555555555556,
              "#d8576b"
             ],
             [
              0.6666666666666666,
              "#ed7953"
             ],
             [
              0.7777777777777778,
              "#fb9f3a"
             ],
             [
              0.8888888888888888,
              "#fdca26"
             ],
             [
              1,
              "#f0f921"
             ]
            ],
            "type": "contour"
           }
          ],
          "contourcarpet": [
           {
            "colorbar": {
             "outlinewidth": 0,
             "ticks": ""
            },
            "type": "contourcarpet"
           }
          ],
          "heatmap": [
           {
            "colorbar": {
             "outlinewidth": 0,
             "ticks": ""
            },
            "colorscale": [
             [
              0,
              "#0d0887"
             ],
             [
              0.1111111111111111,
              "#46039f"
             ],
             [
              0.2222222222222222,
              "#7201a8"
             ],
             [
              0.3333333333333333,
              "#9c179e"
             ],
             [
              0.4444444444444444,
              "#bd3786"
             ],
             [
              0.5555555555555556,
              "#d8576b"
             ],
             [
              0.6666666666666666,
              "#ed7953"
             ],
             [
              0.7777777777777778,
              "#fb9f3a"
             ],
             [
              0.8888888888888888,
              "#fdca26"
             ],
             [
              1,
              "#f0f921"
             ]
            ],
            "type": "heatmap"
           }
          ],
          "heatmapgl": [
           {
            "colorbar": {
             "outlinewidth": 0,
             "ticks": ""
            },
            "colorscale": [
             [
              0,
              "#0d0887"
             ],
             [
              0.1111111111111111,
              "#46039f"
             ],
             [
              0.2222222222222222,
              "#7201a8"
             ],
             [
              0.3333333333333333,
              "#9c179e"
             ],
             [
              0.4444444444444444,
              "#bd3786"
             ],
             [
              0.5555555555555556,
              "#d8576b"
             ],
             [
              0.6666666666666666,
              "#ed7953"
             ],
             [
              0.7777777777777778,
              "#fb9f3a"
             ],
             [
              0.8888888888888888,
              "#fdca26"
             ],
             [
              1,
              "#f0f921"
             ]
            ],
            "type": "heatmapgl"
           }
          ],
          "histogram": [
           {
            "marker": {
             "pattern": {
              "fillmode": "overlay",
              "size": 10,
              "solidity": 0.2
             }
            },
            "type": "histogram"
           }
          ],
          "histogram2d": [
           {
            "colorbar": {
             "outlinewidth": 0,
             "ticks": ""
            },
            "colorscale": [
             [
              0,
              "#0d0887"
             ],
             [
              0.1111111111111111,
              "#46039f"
             ],
             [
              0.2222222222222222,
              "#7201a8"
             ],
             [
              0.3333333333333333,
              "#9c179e"
             ],
             [
              0.4444444444444444,
              "#bd3786"
             ],
             [
              0.5555555555555556,
              "#d8576b"
             ],
             [
              0.6666666666666666,
              "#ed7953"
             ],
             [
              0.7777777777777778,
              "#fb9f3a"
             ],
             [
              0.8888888888888888,
              "#fdca26"
             ],
             [
              1,
              "#f0f921"
             ]
            ],
            "type": "histogram2d"
           }
          ],
          "histogram2dcontour": [
           {
            "colorbar": {
             "outlinewidth": 0,
             "ticks": ""
            },
            "colorscale": [
             [
              0,
              "#0d0887"
             ],
             [
              0.1111111111111111,
              "#46039f"
             ],
             [
              0.2222222222222222,
              "#7201a8"
             ],
             [
              0.3333333333333333,
              "#9c179e"
             ],
             [
              0.4444444444444444,
              "#bd3786"
             ],
             [
              0.5555555555555556,
              "#d8576b"
             ],
             [
              0.6666666666666666,
              "#ed7953"
             ],
             [
              0.7777777777777778,
              "#fb9f3a"
             ],
             [
              0.8888888888888888,
              "#fdca26"
             ],
             [
              1,
              "#f0f921"
             ]
            ],
            "type": "histogram2dcontour"
           }
          ],
          "mesh3d": [
           {
            "colorbar": {
             "outlinewidth": 0,
             "ticks": ""
            },
            "type": "mesh3d"
           }
          ],
          "parcoords": [
           {
            "line": {
             "colorbar": {
              "outlinewidth": 0,
              "ticks": ""
             }
            },
            "type": "parcoords"
           }
          ],
          "pie": [
           {
            "automargin": true,
            "type": "pie"
           }
          ],
          "scatter": [
           {
            "fillpattern": {
             "fillmode": "overlay",
             "size": 10,
             "solidity": 0.2
            },
            "type": "scatter"
           }
          ],
          "scatter3d": [
           {
            "line": {
             "colorbar": {
              "outlinewidth": 0,
              "ticks": ""
             }
            },
            "marker": {
             "colorbar": {
              "outlinewidth": 0,
              "ticks": ""
             }
            },
            "type": "scatter3d"
           }
          ],
          "scattercarpet": [
           {
            "marker": {
             "colorbar": {
              "outlinewidth": 0,
              "ticks": ""
             }
            },
            "type": "scattercarpet"
           }
          ],
          "scattergeo": [
           {
            "marker": {
             "colorbar": {
              "outlinewidth": 0,
              "ticks": ""
             }
            },
            "type": "scattergeo"
           }
          ],
          "scattergl": [
           {
            "marker": {
             "colorbar": {
              "outlinewidth": 0,
              "ticks": ""
             }
            },
            "type": "scattergl"
           }
          ],
          "scattermapbox": [
           {
            "marker": {
             "colorbar": {
              "outlinewidth": 0,
              "ticks": ""
             }
            },
            "type": "scattermapbox"
           }
          ],
          "scatterpolar": [
           {
            "marker": {
             "colorbar": {
              "outlinewidth": 0,
              "ticks": ""
             }
            },
            "type": "scatterpolar"
           }
          ],
          "scatterpolargl": [
           {
            "marker": {
             "colorbar": {
              "outlinewidth": 0,
              "ticks": ""
             }
            },
            "type": "scatterpolargl"
           }
          ],
          "scatterternary": [
           {
            "marker": {
             "colorbar": {
              "outlinewidth": 0,
              "ticks": ""
             }
            },
            "type": "scatterternary"
           }
          ],
          "surface": [
           {
            "colorbar": {
             "outlinewidth": 0,
             "ticks": ""
            },
            "colorscale": [
             [
              0,
              "#0d0887"
             ],
             [
              0.1111111111111111,
              "#46039f"
             ],
             [
              0.2222222222222222,
              "#7201a8"
             ],
             [
              0.3333333333333333,
              "#9c179e"
             ],
             [
              0.4444444444444444,
              "#bd3786"
             ],
             [
              0.5555555555555556,
              "#d8576b"
             ],
             [
              0.6666666666666666,
              "#ed7953"
             ],
             [
              0.7777777777777778,
              "#fb9f3a"
             ],
             [
              0.8888888888888888,
              "#fdca26"
             ],
             [
              1,
              "#f0f921"
             ]
            ],
            "type": "surface"
           }
          ],
          "table": [
           {
            "cells": {
             "fill": {
              "color": "#EBF0F8"
             },
             "line": {
              "color": "white"
             }
            },
            "header": {
             "fill": {
              "color": "#C8D4E3"
             },
             "line": {
              "color": "white"
             }
            },
            "type": "table"
           }
          ]
         },
         "layout": {
          "annotationdefaults": {
           "arrowcolor": "#2a3f5f",
           "arrowhead": 0,
           "arrowwidth": 1
          },
          "autotypenumbers": "strict",
          "coloraxis": {
           "colorbar": {
            "outlinewidth": 0,
            "ticks": ""
           }
          },
          "colorscale": {
           "diverging": [
            [
             0,
             "#8e0152"
            ],
            [
             0.1,
             "#c51b7d"
            ],
            [
             0.2,
             "#de77ae"
            ],
            [
             0.3,
             "#f1b6da"
            ],
            [
             0.4,
             "#fde0ef"
            ],
            [
             0.5,
             "#f7f7f7"
            ],
            [
             0.6,
             "#e6f5d0"
            ],
            [
             0.7,
             "#b8e186"
            ],
            [
             0.8,
             "#7fbc41"
            ],
            [
             0.9,
             "#4d9221"
            ],
            [
             1,
             "#276419"
            ]
           ],
           "sequential": [
            [
             0,
             "#0d0887"
            ],
            [
             0.1111111111111111,
             "#46039f"
            ],
            [
             0.2222222222222222,
             "#7201a8"
            ],
            [
             0.3333333333333333,
             "#9c179e"
            ],
            [
             0.4444444444444444,
             "#bd3786"
            ],
            [
             0.5555555555555556,
             "#d8576b"
            ],
            [
             0.6666666666666666,
             "#ed7953"
            ],
            [
             0.7777777777777778,
             "#fb9f3a"
            ],
            [
             0.8888888888888888,
             "#fdca26"
            ],
            [
             1,
             "#f0f921"
            ]
           ],
           "sequentialminus": [
            [
             0,
             "#0d0887"
            ],
            [
             0.1111111111111111,
             "#46039f"
            ],
            [
             0.2222222222222222,
             "#7201a8"
            ],
            [
             0.3333333333333333,
             "#9c179e"
            ],
            [
             0.4444444444444444,
             "#bd3786"
            ],
            [
             0.5555555555555556,
             "#d8576b"
            ],
            [
             0.6666666666666666,
             "#ed7953"
            ],
            [
             0.7777777777777778,
             "#fb9f3a"
            ],
            [
             0.8888888888888888,
             "#fdca26"
            ],
            [
             1,
             "#f0f921"
            ]
           ]
          },
          "colorway": [
           "#636efa",
           "#EF553B",
           "#00cc96",
           "#ab63fa",
           "#FFA15A",
           "#19d3f3",
           "#FF6692",
           "#B6E880",
           "#FF97FF",
           "#FECB52"
          ],
          "font": {
           "color": "#2a3f5f"
          },
          "geo": {
           "bgcolor": "white",
           "lakecolor": "white",
           "landcolor": "#E5ECF6",
           "showlakes": true,
           "showland": true,
           "subunitcolor": "white"
          },
          "hoverlabel": {
           "align": "left"
          },
          "hovermode": "closest",
          "mapbox": {
           "style": "light"
          },
          "paper_bgcolor": "white",
          "plot_bgcolor": "#E5ECF6",
          "polar": {
           "angularaxis": {
            "gridcolor": "white",
            "linecolor": "white",
            "ticks": ""
           },
           "bgcolor": "#E5ECF6",
           "radialaxis": {
            "gridcolor": "white",
            "linecolor": "white",
            "ticks": ""
           }
          },
          "scene": {
           "xaxis": {
            "backgroundcolor": "#E5ECF6",
            "gridcolor": "white",
            "gridwidth": 2,
            "linecolor": "white",
            "showbackground": true,
            "ticks": "",
            "zerolinecolor": "white"
           },
           "yaxis": {
            "backgroundcolor": "#E5ECF6",
            "gridcolor": "white",
            "gridwidth": 2,
            "linecolor": "white",
            "showbackground": true,
            "ticks": "",
            "zerolinecolor": "white"
           },
           "zaxis": {
            "backgroundcolor": "#E5ECF6",
            "gridcolor": "white",
            "gridwidth": 2,
            "linecolor": "white",
            "showbackground": true,
            "ticks": "",
            "zerolinecolor": "white"
           }
          },
          "shapedefaults": {
           "line": {
            "color": "#2a3f5f"
           }
          },
          "ternary": {
           "aaxis": {
            "gridcolor": "white",
            "linecolor": "white",
            "ticks": ""
           },
           "baxis": {
            "gridcolor": "white",
            "linecolor": "white",
            "ticks": ""
           },
           "bgcolor": "#E5ECF6",
           "caxis": {
            "gridcolor": "white",
            "linecolor": "white",
            "ticks": ""
           }
          },
          "title": {
           "x": 0.05
          },
          "xaxis": {
           "automargin": true,
           "gridcolor": "white",
           "linecolor": "white",
           "ticks": "",
           "title": {
            "standoff": 15
           },
           "zerolinecolor": "white",
           "zerolinewidth": 2
          },
          "yaxis": {
           "automargin": true,
           "gridcolor": "white",
           "linecolor": "white",
           "ticks": "",
           "title": {
            "standoff": 15
           },
           "zerolinecolor": "white",
           "zerolinewidth": 2
          }
         }
        }
       }
      },
      "text/html": [
       "<div>                            <div id=\"65ab92a3-f136-488e-972b-93329f5a6582\" class=\"plotly-graph-div\" style=\"height:525px; width:100%;\"></div>            <script type=\"text/javascript\">                require([\"plotly\"], function(Plotly) {                    window.PLOTLYENV=window.PLOTLYENV || {};                                    if (document.getElementById(\"65ab92a3-f136-488e-972b-93329f5a6582\")) {                    Plotly.newPlot(                        \"65ab92a3-f136-488e-972b-93329f5a6582\",                        [{\"name\":\"Positive\",\"x\":[\"Trump\",\"Biden\"],\"y\":[55.1,60.699999999999996],\"type\":\"bar\"},{\"name\":\"Negative\",\"x\":[\"Trump\",\"Biden\"],\"y\":[44.9,39.300000000000004],\"type\":\"bar\"}],                        {\"template\":{\"data\":{\"histogram2dcontour\":[{\"type\":\"histogram2dcontour\",\"colorbar\":{\"outlinewidth\":0,\"ticks\":\"\"},\"colorscale\":[[0.0,\"#0d0887\"],[0.1111111111111111,\"#46039f\"],[0.2222222222222222,\"#7201a8\"],[0.3333333333333333,\"#9c179e\"],[0.4444444444444444,\"#bd3786\"],[0.5555555555555556,\"#d8576b\"],[0.6666666666666666,\"#ed7953\"],[0.7777777777777778,\"#fb9f3a\"],[0.8888888888888888,\"#fdca26\"],[1.0,\"#f0f921\"]]}],\"choropleth\":[{\"type\":\"choropleth\",\"colorbar\":{\"outlinewidth\":0,\"ticks\":\"\"}}],\"histogram2d\":[{\"type\":\"histogram2d\",\"colorbar\":{\"outlinewidth\":0,\"ticks\":\"\"},\"colorscale\":[[0.0,\"#0d0887\"],[0.1111111111111111,\"#46039f\"],[0.2222222222222222,\"#7201a8\"],[0.3333333333333333,\"#9c179e\"],[0.4444444444444444,\"#bd3786\"],[0.5555555555555556,\"#d8576b\"],[0.6666666666666666,\"#ed7953\"],[0.7777777777777778,\"#fb9f3a\"],[0.8888888888888888,\"#fdca26\"],[1.0,\"#f0f921\"]]}],\"heatmap\":[{\"type\":\"heatmap\",\"colorbar\":{\"outlinewidth\":0,\"ticks\":\"\"},\"colorscale\":[[0.0,\"#0d0887\"],[0.1111111111111111,\"#46039f\"],[0.2222222222222222,\"#7201a8\"],[0.3333333333333333,\"#9c179e\"],[0.4444444444444444,\"#bd3786\"],[0.5555555555555556,\"#d8576b\"],[0.6666666666666666,\"#ed7953\"],[0.7777777777777778,\"#fb9f3a\"],[0.8888888888888888,\"#fdca26\"],[1.0,\"#f0f921\"]]}],\"heatmapgl\":[{\"type\":\"heatmapgl\",\"colorbar\":{\"outlinewidth\":0,\"ticks\":\"\"},\"colorscale\":[[0.0,\"#0d0887\"],[0.1111111111111111,\"#46039f\"],[0.2222222222222222,\"#7201a8\"],[0.3333333333333333,\"#9c179e\"],[0.4444444444444444,\"#bd3786\"],[0.5555555555555556,\"#d8576b\"],[0.6666666666666666,\"#ed7953\"],[0.7777777777777778,\"#fb9f3a\"],[0.8888888888888888,\"#fdca26\"],[1.0,\"#f0f921\"]]}],\"contourcarpet\":[{\"type\":\"contourcarpet\",\"colorbar\":{\"outlinewidth\":0,\"ticks\":\"\"}}],\"contour\":[{\"type\":\"contour\",\"colorbar\":{\"outlinewidth\":0,\"ticks\":\"\"},\"colorscale\":[[0.0,\"#0d0887\"],[0.1111111111111111,\"#46039f\"],[0.2222222222222222,\"#7201a8\"],[0.3333333333333333,\"#9c179e\"],[0.4444444444444444,\"#bd3786\"],[0.5555555555555556,\"#d8576b\"],[0.6666666666666666,\"#ed7953\"],[0.7777777777777778,\"#fb9f3a\"],[0.8888888888888888,\"#fdca26\"],[1.0,\"#f0f921\"]]}],\"surface\":[{\"type\":\"surface\",\"colorbar\":{\"outlinewidth\":0,\"ticks\":\"\"},\"colorscale\":[[0.0,\"#0d0887\"],[0.1111111111111111,\"#46039f\"],[0.2222222222222222,\"#7201a8\"],[0.3333333333333333,\"#9c179e\"],[0.4444444444444444,\"#bd3786\"],[0.5555555555555556,\"#d8576b\"],[0.6666666666666666,\"#ed7953\"],[0.7777777777777778,\"#fb9f3a\"],[0.8888888888888888,\"#fdca26\"],[1.0,\"#f0f921\"]]}],\"mesh3d\":[{\"type\":\"mesh3d\",\"colorbar\":{\"outlinewidth\":0,\"ticks\":\"\"}}],\"scatter\":[{\"fillpattern\":{\"fillmode\":\"overlay\",\"size\":10,\"solidity\":0.2},\"type\":\"scatter\"}],\"parcoords\":[{\"type\":\"parcoords\",\"line\":{\"colorbar\":{\"outlinewidth\":0,\"ticks\":\"\"}}}],\"scatterpolargl\":[{\"type\":\"scatterpolargl\",\"marker\":{\"colorbar\":{\"outlinewidth\":0,\"ticks\":\"\"}}}],\"bar\":[{\"error_x\":{\"color\":\"#2a3f5f\"},\"error_y\":{\"color\":\"#2a3f5f\"},\"marker\":{\"line\":{\"color\":\"#E5ECF6\",\"width\":0.5},\"pattern\":{\"fillmode\":\"overlay\",\"size\":10,\"solidity\":0.2}},\"type\":\"bar\"}],\"scattergeo\":[{\"type\":\"scattergeo\",\"marker\":{\"colorbar\":{\"outlinewidth\":0,\"ticks\":\"\"}}}],\"scatterpolar\":[{\"type\":\"scatterpolar\",\"marker\":{\"colorbar\":{\"outlinewidth\":0,\"ticks\":\"\"}}}],\"histogram\":[{\"marker\":{\"pattern\":{\"fillmode\":\"overlay\",\"size\":10,\"solidity\":0.2}},\"type\":\"histogram\"}],\"scattergl\":[{\"type\":\"scattergl\",\"marker\":{\"colorbar\":{\"outlinewidth\":0,\"ticks\":\"\"}}}],\"scatter3d\":[{\"type\":\"scatter3d\",\"line\":{\"colorbar\":{\"outlinewidth\":0,\"ticks\":\"\"}},\"marker\":{\"colorbar\":{\"outlinewidth\":0,\"ticks\":\"\"}}}],\"scattermapbox\":[{\"type\":\"scattermapbox\",\"marker\":{\"colorbar\":{\"outlinewidth\":0,\"ticks\":\"\"}}}],\"scatterternary\":[{\"type\":\"scatterternary\",\"marker\":{\"colorbar\":{\"outlinewidth\":0,\"ticks\":\"\"}}}],\"scattercarpet\":[{\"type\":\"scattercarpet\",\"marker\":{\"colorbar\":{\"outlinewidth\":0,\"ticks\":\"\"}}}],\"carpet\":[{\"aaxis\":{\"endlinecolor\":\"#2a3f5f\",\"gridcolor\":\"white\",\"linecolor\":\"white\",\"minorgridcolor\":\"white\",\"startlinecolor\":\"#2a3f5f\"},\"baxis\":{\"endlinecolor\":\"#2a3f5f\",\"gridcolor\":\"white\",\"linecolor\":\"white\",\"minorgridcolor\":\"white\",\"startlinecolor\":\"#2a3f5f\"},\"type\":\"carpet\"}],\"table\":[{\"cells\":{\"fill\":{\"color\":\"#EBF0F8\"},\"line\":{\"color\":\"white\"}},\"header\":{\"fill\":{\"color\":\"#C8D4E3\"},\"line\":{\"color\":\"white\"}},\"type\":\"table\"}],\"barpolar\":[{\"marker\":{\"line\":{\"color\":\"#E5ECF6\",\"width\":0.5},\"pattern\":{\"fillmode\":\"overlay\",\"size\":10,\"solidity\":0.2}},\"type\":\"barpolar\"}],\"pie\":[{\"automargin\":true,\"type\":\"pie\"}]},\"layout\":{\"autotypenumbers\":\"strict\",\"colorway\":[\"#636efa\",\"#EF553B\",\"#00cc96\",\"#ab63fa\",\"#FFA15A\",\"#19d3f3\",\"#FF6692\",\"#B6E880\",\"#FF97FF\",\"#FECB52\"],\"font\":{\"color\":\"#2a3f5f\"},\"hovermode\":\"closest\",\"hoverlabel\":{\"align\":\"left\"},\"paper_bgcolor\":\"white\",\"plot_bgcolor\":\"#E5ECF6\",\"polar\":{\"bgcolor\":\"#E5ECF6\",\"angularaxis\":{\"gridcolor\":\"white\",\"linecolor\":\"white\",\"ticks\":\"\"},\"radialaxis\":{\"gridcolor\":\"white\",\"linecolor\":\"white\",\"ticks\":\"\"}},\"ternary\":{\"bgcolor\":\"#E5ECF6\",\"aaxis\":{\"gridcolor\":\"white\",\"linecolor\":\"white\",\"ticks\":\"\"},\"baxis\":{\"gridcolor\":\"white\",\"linecolor\":\"white\",\"ticks\":\"\"},\"caxis\":{\"gridcolor\":\"white\",\"linecolor\":\"white\",\"ticks\":\"\"}},\"coloraxis\":{\"colorbar\":{\"outlinewidth\":0,\"ticks\":\"\"}},\"colorscale\":{\"sequential\":[[0.0,\"#0d0887\"],[0.1111111111111111,\"#46039f\"],[0.2222222222222222,\"#7201a8\"],[0.3333333333333333,\"#9c179e\"],[0.4444444444444444,\"#bd3786\"],[0.5555555555555556,\"#d8576b\"],[0.6666666666666666,\"#ed7953\"],[0.7777777777777778,\"#fb9f3a\"],[0.8888888888888888,\"#fdca26\"],[1.0,\"#f0f921\"]],\"sequentialminus\":[[0.0,\"#0d0887\"],[0.1111111111111111,\"#46039f\"],[0.2222222222222222,\"#7201a8\"],[0.3333333333333333,\"#9c179e\"],[0.4444444444444444,\"#bd3786\"],[0.5555555555555556,\"#d8576b\"],[0.6666666666666666,\"#ed7953\"],[0.7777777777777778,\"#fb9f3a\"],[0.8888888888888888,\"#fdca26\"],[1.0,\"#f0f921\"]],\"diverging\":[[0,\"#8e0152\"],[0.1,\"#c51b7d\"],[0.2,\"#de77ae\"],[0.3,\"#f1b6da\"],[0.4,\"#fde0ef\"],[0.5,\"#f7f7f7\"],[0.6,\"#e6f5d0\"],[0.7,\"#b8e186\"],[0.8,\"#7fbc41\"],[0.9,\"#4d9221\"],[1,\"#276419\"]]},\"xaxis\":{\"gridcolor\":\"white\",\"linecolor\":\"white\",\"ticks\":\"\",\"title\":{\"standoff\":15},\"zerolinecolor\":\"white\",\"automargin\":true,\"zerolinewidth\":2},\"yaxis\":{\"gridcolor\":\"white\",\"linecolor\":\"white\",\"ticks\":\"\",\"title\":{\"standoff\":15},\"zerolinecolor\":\"white\",\"automargin\":true,\"zerolinewidth\":2},\"scene\":{\"xaxis\":{\"backgroundcolor\":\"#E5ECF6\",\"gridcolor\":\"white\",\"linecolor\":\"white\",\"showbackground\":true,\"ticks\":\"\",\"zerolinecolor\":\"white\",\"gridwidth\":2},\"yaxis\":{\"backgroundcolor\":\"#E5ECF6\",\"gridcolor\":\"white\",\"linecolor\":\"white\",\"showbackground\":true,\"ticks\":\"\",\"zerolinecolor\":\"white\",\"gridwidth\":2},\"zaxis\":{\"backgroundcolor\":\"#E5ECF6\",\"gridcolor\":\"white\",\"linecolor\":\"white\",\"showbackground\":true,\"ticks\":\"\",\"zerolinecolor\":\"white\",\"gridwidth\":2}},\"shapedefaults\":{\"line\":{\"color\":\"#2a3f5f\"}},\"annotationdefaults\":{\"arrowcolor\":\"#2a3f5f\",\"arrowhead\":0,\"arrowwidth\":1},\"geo\":{\"bgcolor\":\"white\",\"landcolor\":\"#E5ECF6\",\"subunitcolor\":\"white\",\"showland\":true,\"showlakes\":true,\"lakecolor\":\"white\"},\"title\":{\"x\":0.05},\"mapbox\":{\"style\":\"light\"}}},\"barmode\":\"group\"},                        {\"responsive\": true}                    ).then(function(){\n",
       "                            \n",
       "var gd = document.getElementById('65ab92a3-f136-488e-972b-93329f5a6582');\n",
       "var x = new MutationObserver(function (mutations, observer) {{\n",
       "        var display = window.getComputedStyle(gd).display;\n",
       "        if (!display || display === 'none') {{\n",
       "            console.log([gd, 'removed!']);\n",
       "            Plotly.purge(gd);\n",
       "            observer.disconnect();\n",
       "        }}\n",
       "}});\n",
       "\n",
       "// Listen for the removal of the full notebook cells\n",
       "var notebookContainer = gd.closest('#notebook-container');\n",
       "if (notebookContainer) {{\n",
       "    x.observe(notebookContainer, {childList: true});\n",
       "}}\n",
       "\n",
       "// Listen for the clearing of the current output cell\n",
       "var outputEl = gd.closest('.output');\n",
       "if (outputEl) {{\n",
       "    x.observe(outputEl, {childList: true});\n",
       "}}\n",
       "\n",
       "                        })                };                });            </script>        </div>"
      ]
     },
     "metadata": {},
     "output_type": "display_data"
    }
   ],
   "source": [
    "fig=go.Figure(\n",
    "    data=[\n",
    "        go.Bar(name='Positive',x=politicians,y=lis_pos),\n",
    "        go.Bar(name='Negative',x=politicians,y=lis_neg)\n",
    "    ]\n",
    ")\n",
    "fig.update_layout(barmode='group')\n",
    "fig.show()"
   ]
  }
 ],
 "metadata": {
  "kernelspec": {
   "display_name": "Python 3 (ipykernel)",
   "language": "python",
   "name": "python3"
  },
  "language_info": {
   "codemirror_mode": {
    "name": "ipython",
    "version": 3
   },
   "file_extension": ".py",
   "mimetype": "text/x-python",
   "name": "python",
   "nbconvert_exporter": "python",
   "pygments_lexer": "ipython3",
   "version": "3.10.5"
  }
 },
 "nbformat": 4,
 "nbformat_minor": 5
}
